{
  "nbformat": 4,
  "nbformat_minor": 0,
  "metadata": {
    "colab": {
      "name": "AllStates_claims.ipynb",
      "provenance": [],
      "authorship_tag": "ABX9TyO5GZVjqo3KFPjFy+A3DsQn",
      "include_colab_link": true
    },
    "kernelspec": {
      "name": "python3",
      "display_name": "Python 3"
    }
  },
  "cells": [
    {
      "cell_type": "markdown",
      "metadata": {
        "id": "view-in-github",
        "colab_type": "text"
      },
      "source": [
        "<a href=\"https://colab.research.google.com/github/imswabhab/Projects-ML/blob/master/AllStates_claims.ipynb\" target=\"_parent\"><img src=\"https://colab.research.google.com/assets/colab-badge.svg\" alt=\"Open In Colab\"/></a>"
      ]
    },
    {
      "cell_type": "code",
      "metadata": {
        "id": "KQfYJJCLv-3J",
        "colab_type": "code",
        "colab": {}
      },
      "source": [
        "#importing relevant Libraries\n",
        "\n",
        "import numpy as np\n",
        "import pandas as pd\n",
        "import matplotlib.pyplot as plt\n",
        "import seaborn as sns\n",
        "\n",
        "#ignoring the warnings\n",
        "import warnings\n",
        "warnings.filterwarnings('ignore')"
      ],
      "execution_count": 0,
      "outputs": []
    },
    {
      "cell_type": "code",
      "metadata": {
        "id": "CRIg0HHJwGEe",
        "colab_type": "code",
        "outputId": "e83550f2-5ca2-4b02-f6df-6468c194ec58",
        "colab": {
          "base_uri": "https://localhost:8080/",
          "height": 34
        }
      },
      "source": [
        "#mounting drive to importing the dataset\n",
        "from google.colab import drive\n",
        "drive.mount('/content/drive')\n"
      ],
      "execution_count": 2,
      "outputs": [
        {
          "output_type": "stream",
          "text": [
            "Drive already mounted at /content/drive; to attempt to forcibly remount, call drive.mount(\"/content/drive\", force_remount=True).\n"
          ],
          "name": "stdout"
        }
      ]
    },
    {
      "cell_type": "code",
      "metadata": {
        "id": "ERGcI4z2woLX",
        "colab_type": "code",
        "colab": {}
      },
      "source": [
        "#reading csv\n",
        "train = pd.read_csv('/content/drive/My Drive/Untitled folder (2)/train.csv')\n",
        "test= pd.read_csv('/content/drive/My Drive/Untitled folder (2)/test.csv')"
      ],
      "execution_count": 0,
      "outputs": []
    },
    {
      "cell_type": "code",
      "metadata": {
        "id": "-ZnAn8SdwLtR",
        "colab_type": "code",
        "colab": {}
      },
      "source": [
        "#Print all rows and columns.\n",
        "pd.set_option('display.max_rows', None)\n",
        "pd.set_option('display.max_columns', None)"
      ],
      "execution_count": 0,
      "outputs": []
    },
    {
      "cell_type": "code",
      "metadata": {
        "id": "Qs_FqcAGwlYe",
        "colab_type": "code",
        "outputId": "c46624e1-8d17-4cd9-d94e-6be45affb40a",
        "colab": {
          "base_uri": "https://localhost:8080/",
          "height": 224
        }
      },
      "source": [
        "train.head()"
      ],
      "execution_count": 5,
      "outputs": [
        {
          "output_type": "execute_result",
          "data": {
            "text/html": [
              "<div>\n",
              "<style scoped>\n",
              "    .dataframe tbody tr th:only-of-type {\n",
              "        vertical-align: middle;\n",
              "    }\n",
              "\n",
              "    .dataframe tbody tr th {\n",
              "        vertical-align: top;\n",
              "    }\n",
              "\n",
              "    .dataframe thead th {\n",
              "        text-align: right;\n",
              "    }\n",
              "</style>\n",
              "<table border=\"1\" class=\"dataframe\">\n",
              "  <thead>\n",
              "    <tr style=\"text-align: right;\">\n",
              "      <th></th>\n",
              "      <th>id</th>\n",
              "      <th>cat1</th>\n",
              "      <th>cat2</th>\n",
              "      <th>cat3</th>\n",
              "      <th>cat4</th>\n",
              "      <th>cat5</th>\n",
              "      <th>cat6</th>\n",
              "      <th>cat7</th>\n",
              "      <th>cat8</th>\n",
              "      <th>cat9</th>\n",
              "      <th>cat10</th>\n",
              "      <th>cat11</th>\n",
              "      <th>cat12</th>\n",
              "      <th>cat13</th>\n",
              "      <th>cat14</th>\n",
              "      <th>cat15</th>\n",
              "      <th>cat16</th>\n",
              "      <th>cat17</th>\n",
              "      <th>cat18</th>\n",
              "      <th>cat19</th>\n",
              "      <th>cat20</th>\n",
              "      <th>cat21</th>\n",
              "      <th>cat22</th>\n",
              "      <th>cat23</th>\n",
              "      <th>cat24</th>\n",
              "      <th>cat25</th>\n",
              "      <th>cat26</th>\n",
              "      <th>cat27</th>\n",
              "      <th>cat28</th>\n",
              "      <th>cat29</th>\n",
              "      <th>cat30</th>\n",
              "      <th>cat31</th>\n",
              "      <th>cat32</th>\n",
              "      <th>cat33</th>\n",
              "      <th>cat34</th>\n",
              "      <th>cat35</th>\n",
              "      <th>cat36</th>\n",
              "      <th>cat37</th>\n",
              "      <th>cat38</th>\n",
              "      <th>cat39</th>\n",
              "      <th>cat40</th>\n",
              "      <th>cat41</th>\n",
              "      <th>cat42</th>\n",
              "      <th>cat43</th>\n",
              "      <th>cat44</th>\n",
              "      <th>cat45</th>\n",
              "      <th>cat46</th>\n",
              "      <th>cat47</th>\n",
              "      <th>cat48</th>\n",
              "      <th>cat49</th>\n",
              "      <th>cat50</th>\n",
              "      <th>cat51</th>\n",
              "      <th>cat52</th>\n",
              "      <th>cat53</th>\n",
              "      <th>cat54</th>\n",
              "      <th>cat55</th>\n",
              "      <th>cat56</th>\n",
              "      <th>cat57</th>\n",
              "      <th>cat58</th>\n",
              "      <th>cat59</th>\n",
              "      <th>cat60</th>\n",
              "      <th>cat61</th>\n",
              "      <th>cat62</th>\n",
              "      <th>cat63</th>\n",
              "      <th>cat64</th>\n",
              "      <th>cat65</th>\n",
              "      <th>cat66</th>\n",
              "      <th>cat67</th>\n",
              "      <th>cat68</th>\n",
              "      <th>cat69</th>\n",
              "      <th>cat70</th>\n",
              "      <th>cat71</th>\n",
              "      <th>cat72</th>\n",
              "      <th>cat73</th>\n",
              "      <th>cat74</th>\n",
              "      <th>cat75</th>\n",
              "      <th>cat76</th>\n",
              "      <th>cat77</th>\n",
              "      <th>cat78</th>\n",
              "      <th>cat79</th>\n",
              "      <th>cat80</th>\n",
              "      <th>cat81</th>\n",
              "      <th>cat82</th>\n",
              "      <th>cat83</th>\n",
              "      <th>cat84</th>\n",
              "      <th>cat85</th>\n",
              "      <th>cat86</th>\n",
              "      <th>cat87</th>\n",
              "      <th>cat88</th>\n",
              "      <th>cat89</th>\n",
              "      <th>cat90</th>\n",
              "      <th>cat91</th>\n",
              "      <th>cat92</th>\n",
              "      <th>cat93</th>\n",
              "      <th>cat94</th>\n",
              "      <th>cat95</th>\n",
              "      <th>cat96</th>\n",
              "      <th>cat97</th>\n",
              "      <th>cat98</th>\n",
              "      <th>cat99</th>\n",
              "      <th>cat100</th>\n",
              "      <th>cat101</th>\n",
              "      <th>cat102</th>\n",
              "      <th>cat103</th>\n",
              "      <th>cat104</th>\n",
              "      <th>cat105</th>\n",
              "      <th>cat106</th>\n",
              "      <th>cat107</th>\n",
              "      <th>cat108</th>\n",
              "      <th>cat109</th>\n",
              "      <th>cat110</th>\n",
              "      <th>cat111</th>\n",
              "      <th>cat112</th>\n",
              "      <th>cat113</th>\n",
              "      <th>cat114</th>\n",
              "      <th>cat115</th>\n",
              "      <th>cat116</th>\n",
              "      <th>cont1</th>\n",
              "      <th>cont2</th>\n",
              "      <th>cont3</th>\n",
              "      <th>cont4</th>\n",
              "      <th>cont5</th>\n",
              "      <th>cont6</th>\n",
              "      <th>cont7</th>\n",
              "      <th>cont8</th>\n",
              "      <th>cont9</th>\n",
              "      <th>cont10</th>\n",
              "      <th>cont11</th>\n",
              "      <th>cont12</th>\n",
              "      <th>cont13</th>\n",
              "      <th>cont14</th>\n",
              "      <th>loss</th>\n",
              "    </tr>\n",
              "  </thead>\n",
              "  <tbody>\n",
              "    <tr>\n",
              "      <th>0</th>\n",
              "      <td>1</td>\n",
              "      <td>A</td>\n",
              "      <td>B</td>\n",
              "      <td>A</td>\n",
              "      <td>B</td>\n",
              "      <td>A</td>\n",
              "      <td>A</td>\n",
              "      <td>A</td>\n",
              "      <td>A</td>\n",
              "      <td>B</td>\n",
              "      <td>A</td>\n",
              "      <td>B</td>\n",
              "      <td>A</td>\n",
              "      <td>A</td>\n",
              "      <td>A</td>\n",
              "      <td>A</td>\n",
              "      <td>A</td>\n",
              "      <td>A</td>\n",
              "      <td>A</td>\n",
              "      <td>A</td>\n",
              "      <td>A</td>\n",
              "      <td>A</td>\n",
              "      <td>A</td>\n",
              "      <td>B</td>\n",
              "      <td>A</td>\n",
              "      <td>A</td>\n",
              "      <td>A</td>\n",
              "      <td>A</td>\n",
              "      <td>A</td>\n",
              "      <td>A</td>\n",
              "      <td>A</td>\n",
              "      <td>A</td>\n",
              "      <td>A</td>\n",
              "      <td>A</td>\n",
              "      <td>A</td>\n",
              "      <td>A</td>\n",
              "      <td>A</td>\n",
              "      <td>A</td>\n",
              "      <td>A</td>\n",
              "      <td>A</td>\n",
              "      <td>A</td>\n",
              "      <td>A</td>\n",
              "      <td>A</td>\n",
              "      <td>A</td>\n",
              "      <td>A</td>\n",
              "      <td>A</td>\n",
              "      <td>A</td>\n",
              "      <td>A</td>\n",
              "      <td>A</td>\n",
              "      <td>A</td>\n",
              "      <td>A</td>\n",
              "      <td>A</td>\n",
              "      <td>A</td>\n",
              "      <td>A</td>\n",
              "      <td>A</td>\n",
              "      <td>A</td>\n",
              "      <td>A</td>\n",
              "      <td>A</td>\n",
              "      <td>A</td>\n",
              "      <td>A</td>\n",
              "      <td>A</td>\n",
              "      <td>A</td>\n",
              "      <td>A</td>\n",
              "      <td>A</td>\n",
              "      <td>A</td>\n",
              "      <td>A</td>\n",
              "      <td>A</td>\n",
              "      <td>A</td>\n",
              "      <td>A</td>\n",
              "      <td>A</td>\n",
              "      <td>A</td>\n",
              "      <td>A</td>\n",
              "      <td>A</td>\n",
              "      <td>A</td>\n",
              "      <td>A</td>\n",
              "      <td>B</td>\n",
              "      <td>A</td>\n",
              "      <td>D</td>\n",
              "      <td>B</td>\n",
              "      <td>B</td>\n",
              "      <td>D</td>\n",
              "      <td>D</td>\n",
              "      <td>B</td>\n",
              "      <td>D</td>\n",
              "      <td>C</td>\n",
              "      <td>B</td>\n",
              "      <td>D</td>\n",
              "      <td>B</td>\n",
              "      <td>A</td>\n",
              "      <td>A</td>\n",
              "      <td>A</td>\n",
              "      <td>A</td>\n",
              "      <td>A</td>\n",
              "      <td>D</td>\n",
              "      <td>B</td>\n",
              "      <td>C</td>\n",
              "      <td>E</td>\n",
              "      <td>A</td>\n",
              "      <td>C</td>\n",
              "      <td>T</td>\n",
              "      <td>B</td>\n",
              "      <td>G</td>\n",
              "      <td>A</td>\n",
              "      <td>A</td>\n",
              "      <td>I</td>\n",
              "      <td>E</td>\n",
              "      <td>G</td>\n",
              "      <td>J</td>\n",
              "      <td>G</td>\n",
              "      <td>BU</td>\n",
              "      <td>BC</td>\n",
              "      <td>C</td>\n",
              "      <td>AS</td>\n",
              "      <td>S</td>\n",
              "      <td>A</td>\n",
              "      <td>O</td>\n",
              "      <td>LB</td>\n",
              "      <td>0.726300</td>\n",
              "      <td>0.245921</td>\n",
              "      <td>0.187583</td>\n",
              "      <td>0.789639</td>\n",
              "      <td>0.310061</td>\n",
              "      <td>0.718367</td>\n",
              "      <td>0.335060</td>\n",
              "      <td>0.30260</td>\n",
              "      <td>0.67135</td>\n",
              "      <td>0.83510</td>\n",
              "      <td>0.569745</td>\n",
              "      <td>0.594646</td>\n",
              "      <td>0.822493</td>\n",
              "      <td>0.714843</td>\n",
              "      <td>2213.18</td>\n",
              "    </tr>\n",
              "    <tr>\n",
              "      <th>1</th>\n",
              "      <td>2</td>\n",
              "      <td>A</td>\n",
              "      <td>B</td>\n",
              "      <td>A</td>\n",
              "      <td>A</td>\n",
              "      <td>A</td>\n",
              "      <td>A</td>\n",
              "      <td>A</td>\n",
              "      <td>A</td>\n",
              "      <td>B</td>\n",
              "      <td>B</td>\n",
              "      <td>A</td>\n",
              "      <td>A</td>\n",
              "      <td>A</td>\n",
              "      <td>A</td>\n",
              "      <td>A</td>\n",
              "      <td>A</td>\n",
              "      <td>A</td>\n",
              "      <td>A</td>\n",
              "      <td>A</td>\n",
              "      <td>A</td>\n",
              "      <td>A</td>\n",
              "      <td>A</td>\n",
              "      <td>A</td>\n",
              "      <td>A</td>\n",
              "      <td>A</td>\n",
              "      <td>A</td>\n",
              "      <td>A</td>\n",
              "      <td>A</td>\n",
              "      <td>A</td>\n",
              "      <td>A</td>\n",
              "      <td>A</td>\n",
              "      <td>A</td>\n",
              "      <td>A</td>\n",
              "      <td>A</td>\n",
              "      <td>A</td>\n",
              "      <td>A</td>\n",
              "      <td>A</td>\n",
              "      <td>A</td>\n",
              "      <td>A</td>\n",
              "      <td>A</td>\n",
              "      <td>A</td>\n",
              "      <td>A</td>\n",
              "      <td>A</td>\n",
              "      <td>A</td>\n",
              "      <td>A</td>\n",
              "      <td>A</td>\n",
              "      <td>A</td>\n",
              "      <td>A</td>\n",
              "      <td>A</td>\n",
              "      <td>A</td>\n",
              "      <td>A</td>\n",
              "      <td>A</td>\n",
              "      <td>A</td>\n",
              "      <td>A</td>\n",
              "      <td>A</td>\n",
              "      <td>A</td>\n",
              "      <td>A</td>\n",
              "      <td>A</td>\n",
              "      <td>A</td>\n",
              "      <td>A</td>\n",
              "      <td>A</td>\n",
              "      <td>A</td>\n",
              "      <td>A</td>\n",
              "      <td>A</td>\n",
              "      <td>A</td>\n",
              "      <td>A</td>\n",
              "      <td>A</td>\n",
              "      <td>A</td>\n",
              "      <td>A</td>\n",
              "      <td>A</td>\n",
              "      <td>A</td>\n",
              "      <td>A</td>\n",
              "      <td>A</td>\n",
              "      <td>A</td>\n",
              "      <td>A</td>\n",
              "      <td>A</td>\n",
              "      <td>D</td>\n",
              "      <td>B</td>\n",
              "      <td>B</td>\n",
              "      <td>D</td>\n",
              "      <td>D</td>\n",
              "      <td>A</td>\n",
              "      <td>B</td>\n",
              "      <td>C</td>\n",
              "      <td>B</td>\n",
              "      <td>D</td>\n",
              "      <td>B</td>\n",
              "      <td>A</td>\n",
              "      <td>A</td>\n",
              "      <td>A</td>\n",
              "      <td>A</td>\n",
              "      <td>A</td>\n",
              "      <td>D</td>\n",
              "      <td>D</td>\n",
              "      <td>C</td>\n",
              "      <td>E</td>\n",
              "      <td>E</td>\n",
              "      <td>D</td>\n",
              "      <td>T</td>\n",
              "      <td>L</td>\n",
              "      <td>F</td>\n",
              "      <td>A</td>\n",
              "      <td>A</td>\n",
              "      <td>E</td>\n",
              "      <td>E</td>\n",
              "      <td>I</td>\n",
              "      <td>K</td>\n",
              "      <td>K</td>\n",
              "      <td>BI</td>\n",
              "      <td>CQ</td>\n",
              "      <td>A</td>\n",
              "      <td>AV</td>\n",
              "      <td>BM</td>\n",
              "      <td>A</td>\n",
              "      <td>O</td>\n",
              "      <td>DP</td>\n",
              "      <td>0.330514</td>\n",
              "      <td>0.737068</td>\n",
              "      <td>0.592681</td>\n",
              "      <td>0.614134</td>\n",
              "      <td>0.885834</td>\n",
              "      <td>0.438917</td>\n",
              "      <td>0.436585</td>\n",
              "      <td>0.60087</td>\n",
              "      <td>0.35127</td>\n",
              "      <td>0.43919</td>\n",
              "      <td>0.338312</td>\n",
              "      <td>0.366307</td>\n",
              "      <td>0.611431</td>\n",
              "      <td>0.304496</td>\n",
              "      <td>1283.60</td>\n",
              "    </tr>\n",
              "    <tr>\n",
              "      <th>2</th>\n",
              "      <td>5</td>\n",
              "      <td>A</td>\n",
              "      <td>B</td>\n",
              "      <td>A</td>\n",
              "      <td>A</td>\n",
              "      <td>B</td>\n",
              "      <td>A</td>\n",
              "      <td>A</td>\n",
              "      <td>A</td>\n",
              "      <td>B</td>\n",
              "      <td>B</td>\n",
              "      <td>B</td>\n",
              "      <td>B</td>\n",
              "      <td>B</td>\n",
              "      <td>A</td>\n",
              "      <td>A</td>\n",
              "      <td>A</td>\n",
              "      <td>A</td>\n",
              "      <td>A</td>\n",
              "      <td>A</td>\n",
              "      <td>A</td>\n",
              "      <td>A</td>\n",
              "      <td>A</td>\n",
              "      <td>A</td>\n",
              "      <td>A</td>\n",
              "      <td>A</td>\n",
              "      <td>A</td>\n",
              "      <td>A</td>\n",
              "      <td>A</td>\n",
              "      <td>A</td>\n",
              "      <td>A</td>\n",
              "      <td>A</td>\n",
              "      <td>A</td>\n",
              "      <td>A</td>\n",
              "      <td>A</td>\n",
              "      <td>A</td>\n",
              "      <td>B</td>\n",
              "      <td>A</td>\n",
              "      <td>A</td>\n",
              "      <td>A</td>\n",
              "      <td>A</td>\n",
              "      <td>A</td>\n",
              "      <td>A</td>\n",
              "      <td>A</td>\n",
              "      <td>A</td>\n",
              "      <td>A</td>\n",
              "      <td>A</td>\n",
              "      <td>A</td>\n",
              "      <td>A</td>\n",
              "      <td>A</td>\n",
              "      <td>A</td>\n",
              "      <td>A</td>\n",
              "      <td>A</td>\n",
              "      <td>A</td>\n",
              "      <td>A</td>\n",
              "      <td>A</td>\n",
              "      <td>A</td>\n",
              "      <td>A</td>\n",
              "      <td>A</td>\n",
              "      <td>A</td>\n",
              "      <td>A</td>\n",
              "      <td>A</td>\n",
              "      <td>A</td>\n",
              "      <td>A</td>\n",
              "      <td>A</td>\n",
              "      <td>A</td>\n",
              "      <td>A</td>\n",
              "      <td>A</td>\n",
              "      <td>A</td>\n",
              "      <td>A</td>\n",
              "      <td>A</td>\n",
              "      <td>A</td>\n",
              "      <td>A</td>\n",
              "      <td>A</td>\n",
              "      <td>A</td>\n",
              "      <td>A</td>\n",
              "      <td>A</td>\n",
              "      <td>D</td>\n",
              "      <td>B</td>\n",
              "      <td>B</td>\n",
              "      <td>B</td>\n",
              "      <td>D</td>\n",
              "      <td>B</td>\n",
              "      <td>D</td>\n",
              "      <td>C</td>\n",
              "      <td>B</td>\n",
              "      <td>B</td>\n",
              "      <td>B</td>\n",
              "      <td>A</td>\n",
              "      <td>A</td>\n",
              "      <td>A</td>\n",
              "      <td>A</td>\n",
              "      <td>A</td>\n",
              "      <td>D</td>\n",
              "      <td>D</td>\n",
              "      <td>C</td>\n",
              "      <td>E</td>\n",
              "      <td>E</td>\n",
              "      <td>A</td>\n",
              "      <td>D</td>\n",
              "      <td>L</td>\n",
              "      <td>O</td>\n",
              "      <td>A</td>\n",
              "      <td>B</td>\n",
              "      <td>E</td>\n",
              "      <td>F</td>\n",
              "      <td>H</td>\n",
              "      <td>F</td>\n",
              "      <td>A</td>\n",
              "      <td>AB</td>\n",
              "      <td>DK</td>\n",
              "      <td>A</td>\n",
              "      <td>C</td>\n",
              "      <td>AF</td>\n",
              "      <td>A</td>\n",
              "      <td>I</td>\n",
              "      <td>GK</td>\n",
              "      <td>0.261841</td>\n",
              "      <td>0.358319</td>\n",
              "      <td>0.484196</td>\n",
              "      <td>0.236924</td>\n",
              "      <td>0.397069</td>\n",
              "      <td>0.289648</td>\n",
              "      <td>0.315545</td>\n",
              "      <td>0.27320</td>\n",
              "      <td>0.26076</td>\n",
              "      <td>0.32446</td>\n",
              "      <td>0.381398</td>\n",
              "      <td>0.373424</td>\n",
              "      <td>0.195709</td>\n",
              "      <td>0.774425</td>\n",
              "      <td>3005.09</td>\n",
              "    </tr>\n",
              "    <tr>\n",
              "      <th>3</th>\n",
              "      <td>10</td>\n",
              "      <td>B</td>\n",
              "      <td>B</td>\n",
              "      <td>A</td>\n",
              "      <td>B</td>\n",
              "      <td>A</td>\n",
              "      <td>A</td>\n",
              "      <td>A</td>\n",
              "      <td>A</td>\n",
              "      <td>B</td>\n",
              "      <td>A</td>\n",
              "      <td>A</td>\n",
              "      <td>A</td>\n",
              "      <td>A</td>\n",
              "      <td>A</td>\n",
              "      <td>A</td>\n",
              "      <td>A</td>\n",
              "      <td>A</td>\n",
              "      <td>A</td>\n",
              "      <td>A</td>\n",
              "      <td>A</td>\n",
              "      <td>A</td>\n",
              "      <td>A</td>\n",
              "      <td>B</td>\n",
              "      <td>A</td>\n",
              "      <td>A</td>\n",
              "      <td>A</td>\n",
              "      <td>A</td>\n",
              "      <td>A</td>\n",
              "      <td>A</td>\n",
              "      <td>A</td>\n",
              "      <td>A</td>\n",
              "      <td>A</td>\n",
              "      <td>A</td>\n",
              "      <td>A</td>\n",
              "      <td>A</td>\n",
              "      <td>A</td>\n",
              "      <td>A</td>\n",
              "      <td>A</td>\n",
              "      <td>A</td>\n",
              "      <td>A</td>\n",
              "      <td>A</td>\n",
              "      <td>A</td>\n",
              "      <td>A</td>\n",
              "      <td>A</td>\n",
              "      <td>A</td>\n",
              "      <td>A</td>\n",
              "      <td>A</td>\n",
              "      <td>A</td>\n",
              "      <td>A</td>\n",
              "      <td>A</td>\n",
              "      <td>A</td>\n",
              "      <td>A</td>\n",
              "      <td>A</td>\n",
              "      <td>A</td>\n",
              "      <td>A</td>\n",
              "      <td>A</td>\n",
              "      <td>A</td>\n",
              "      <td>A</td>\n",
              "      <td>A</td>\n",
              "      <td>A</td>\n",
              "      <td>A</td>\n",
              "      <td>A</td>\n",
              "      <td>A</td>\n",
              "      <td>A</td>\n",
              "      <td>A</td>\n",
              "      <td>A</td>\n",
              "      <td>A</td>\n",
              "      <td>A</td>\n",
              "      <td>A</td>\n",
              "      <td>A</td>\n",
              "      <td>A</td>\n",
              "      <td>A</td>\n",
              "      <td>B</td>\n",
              "      <td>A</td>\n",
              "      <td>A</td>\n",
              "      <td>A</td>\n",
              "      <td>D</td>\n",
              "      <td>B</td>\n",
              "      <td>B</td>\n",
              "      <td>D</td>\n",
              "      <td>D</td>\n",
              "      <td>D</td>\n",
              "      <td>B</td>\n",
              "      <td>C</td>\n",
              "      <td>B</td>\n",
              "      <td>D</td>\n",
              "      <td>B</td>\n",
              "      <td>A</td>\n",
              "      <td>A</td>\n",
              "      <td>A</td>\n",
              "      <td>A</td>\n",
              "      <td>A</td>\n",
              "      <td>D</td>\n",
              "      <td>D</td>\n",
              "      <td>C</td>\n",
              "      <td>E</td>\n",
              "      <td>E</td>\n",
              "      <td>D</td>\n",
              "      <td>T</td>\n",
              "      <td>I</td>\n",
              "      <td>D</td>\n",
              "      <td>A</td>\n",
              "      <td>A</td>\n",
              "      <td>E</td>\n",
              "      <td>E</td>\n",
              "      <td>I</td>\n",
              "      <td>K</td>\n",
              "      <td>K</td>\n",
              "      <td>BI</td>\n",
              "      <td>CS</td>\n",
              "      <td>C</td>\n",
              "      <td>N</td>\n",
              "      <td>AE</td>\n",
              "      <td>A</td>\n",
              "      <td>O</td>\n",
              "      <td>DJ</td>\n",
              "      <td>0.321594</td>\n",
              "      <td>0.555782</td>\n",
              "      <td>0.527991</td>\n",
              "      <td>0.373816</td>\n",
              "      <td>0.422268</td>\n",
              "      <td>0.440945</td>\n",
              "      <td>0.391128</td>\n",
              "      <td>0.31796</td>\n",
              "      <td>0.32128</td>\n",
              "      <td>0.44467</td>\n",
              "      <td>0.327915</td>\n",
              "      <td>0.321570</td>\n",
              "      <td>0.605077</td>\n",
              "      <td>0.602642</td>\n",
              "      <td>939.85</td>\n",
              "    </tr>\n",
              "    <tr>\n",
              "      <th>4</th>\n",
              "      <td>11</td>\n",
              "      <td>A</td>\n",
              "      <td>B</td>\n",
              "      <td>A</td>\n",
              "      <td>B</td>\n",
              "      <td>A</td>\n",
              "      <td>A</td>\n",
              "      <td>A</td>\n",
              "      <td>A</td>\n",
              "      <td>B</td>\n",
              "      <td>B</td>\n",
              "      <td>A</td>\n",
              "      <td>B</td>\n",
              "      <td>A</td>\n",
              "      <td>A</td>\n",
              "      <td>A</td>\n",
              "      <td>A</td>\n",
              "      <td>A</td>\n",
              "      <td>A</td>\n",
              "      <td>A</td>\n",
              "      <td>A</td>\n",
              "      <td>A</td>\n",
              "      <td>A</td>\n",
              "      <td>B</td>\n",
              "      <td>A</td>\n",
              "      <td>A</td>\n",
              "      <td>A</td>\n",
              "      <td>A</td>\n",
              "      <td>A</td>\n",
              "      <td>A</td>\n",
              "      <td>A</td>\n",
              "      <td>A</td>\n",
              "      <td>A</td>\n",
              "      <td>A</td>\n",
              "      <td>A</td>\n",
              "      <td>A</td>\n",
              "      <td>A</td>\n",
              "      <td>A</td>\n",
              "      <td>A</td>\n",
              "      <td>A</td>\n",
              "      <td>A</td>\n",
              "      <td>A</td>\n",
              "      <td>A</td>\n",
              "      <td>A</td>\n",
              "      <td>A</td>\n",
              "      <td>A</td>\n",
              "      <td>A</td>\n",
              "      <td>A</td>\n",
              "      <td>A</td>\n",
              "      <td>A</td>\n",
              "      <td>A</td>\n",
              "      <td>A</td>\n",
              "      <td>A</td>\n",
              "      <td>A</td>\n",
              "      <td>A</td>\n",
              "      <td>A</td>\n",
              "      <td>A</td>\n",
              "      <td>A</td>\n",
              "      <td>A</td>\n",
              "      <td>A</td>\n",
              "      <td>A</td>\n",
              "      <td>A</td>\n",
              "      <td>A</td>\n",
              "      <td>A</td>\n",
              "      <td>A</td>\n",
              "      <td>A</td>\n",
              "      <td>A</td>\n",
              "      <td>A</td>\n",
              "      <td>A</td>\n",
              "      <td>A</td>\n",
              "      <td>A</td>\n",
              "      <td>A</td>\n",
              "      <td>B</td>\n",
              "      <td>A</td>\n",
              "      <td>A</td>\n",
              "      <td>A</td>\n",
              "      <td>A</td>\n",
              "      <td>D</td>\n",
              "      <td>B</td>\n",
              "      <td>D</td>\n",
              "      <td>B</td>\n",
              "      <td>D</td>\n",
              "      <td>B</td>\n",
              "      <td>B</td>\n",
              "      <td>C</td>\n",
              "      <td>B</td>\n",
              "      <td>B</td>\n",
              "      <td>C</td>\n",
              "      <td>A</td>\n",
              "      <td>A</td>\n",
              "      <td>A</td>\n",
              "      <td>B</td>\n",
              "      <td>H</td>\n",
              "      <td>D</td>\n",
              "      <td>B</td>\n",
              "      <td>D</td>\n",
              "      <td>E</td>\n",
              "      <td>E</td>\n",
              "      <td>A</td>\n",
              "      <td>P</td>\n",
              "      <td>F</td>\n",
              "      <td>J</td>\n",
              "      <td>A</td>\n",
              "      <td>A</td>\n",
              "      <td>D</td>\n",
              "      <td>E</td>\n",
              "      <td>K</td>\n",
              "      <td>G</td>\n",
              "      <td>B</td>\n",
              "      <td>H</td>\n",
              "      <td>C</td>\n",
              "      <td>C</td>\n",
              "      <td>Y</td>\n",
              "      <td>BM</td>\n",
              "      <td>A</td>\n",
              "      <td>K</td>\n",
              "      <td>CK</td>\n",
              "      <td>0.273204</td>\n",
              "      <td>0.159990</td>\n",
              "      <td>0.527991</td>\n",
              "      <td>0.473202</td>\n",
              "      <td>0.704268</td>\n",
              "      <td>0.178193</td>\n",
              "      <td>0.247408</td>\n",
              "      <td>0.24564</td>\n",
              "      <td>0.22089</td>\n",
              "      <td>0.21230</td>\n",
              "      <td>0.204687</td>\n",
              "      <td>0.202213</td>\n",
              "      <td>0.246011</td>\n",
              "      <td>0.432606</td>\n",
              "      <td>2763.85</td>\n",
              "    </tr>\n",
              "  </tbody>\n",
              "</table>\n",
              "</div>"
            ],
            "text/plain": [
              "   id cat1 cat2 cat3 cat4 cat5 cat6 cat7 cat8 cat9 cat10 cat11 cat12 cat13  \\\n",
              "0   1    A    B    A    B    A    A    A    A    B     A     B     A     A   \n",
              "1   2    A    B    A    A    A    A    A    A    B     B     A     A     A   \n",
              "2   5    A    B    A    A    B    A    A    A    B     B     B     B     B   \n",
              "3  10    B    B    A    B    A    A    A    A    B     A     A     A     A   \n",
              "4  11    A    B    A    B    A    A    A    A    B     B     A     B     A   \n",
              "\n",
              "  cat14 cat15 cat16 cat17 cat18 cat19 cat20 cat21 cat22 cat23 cat24 cat25  \\\n",
              "0     A     A     A     A     A     A     A     A     A     B     A     A   \n",
              "1     A     A     A     A     A     A     A     A     A     A     A     A   \n",
              "2     A     A     A     A     A     A     A     A     A     A     A     A   \n",
              "3     A     A     A     A     A     A     A     A     A     B     A     A   \n",
              "4     A     A     A     A     A     A     A     A     A     B     A     A   \n",
              "\n",
              "  cat26 cat27 cat28 cat29 cat30 cat31 cat32 cat33 cat34 cat35 cat36 cat37  \\\n",
              "0     A     A     A     A     A     A     A     A     A     A     A     A   \n",
              "1     A     A     A     A     A     A     A     A     A     A     A     A   \n",
              "2     A     A     A     A     A     A     A     A     A     A     B     A   \n",
              "3     A     A     A     A     A     A     A     A     A     A     A     A   \n",
              "4     A     A     A     A     A     A     A     A     A     A     A     A   \n",
              "\n",
              "  cat38 cat39 cat40 cat41 cat42 cat43 cat44 cat45 cat46 cat47 cat48 cat49  \\\n",
              "0     A     A     A     A     A     A     A     A     A     A     A     A   \n",
              "1     A     A     A     A     A     A     A     A     A     A     A     A   \n",
              "2     A     A     A     A     A     A     A     A     A     A     A     A   \n",
              "3     A     A     A     A     A     A     A     A     A     A     A     A   \n",
              "4     A     A     A     A     A     A     A     A     A     A     A     A   \n",
              "\n",
              "  cat50 cat51 cat52 cat53 cat54 cat55 cat56 cat57 cat58 cat59 cat60 cat61  \\\n",
              "0     A     A     A     A     A     A     A     A     A     A     A     A   \n",
              "1     A     A     A     A     A     A     A     A     A     A     A     A   \n",
              "2     A     A     A     A     A     A     A     A     A     A     A     A   \n",
              "3     A     A     A     A     A     A     A     A     A     A     A     A   \n",
              "4     A     A     A     A     A     A     A     A     A     A     A     A   \n",
              "\n",
              "  cat62 cat63 cat64 cat65 cat66 cat67 cat68 cat69 cat70 cat71 cat72 cat73  \\\n",
              "0     A     A     A     A     A     A     A     A     A     A     A     A   \n",
              "1     A     A     A     A     A     A     A     A     A     A     A     A   \n",
              "2     A     A     A     A     A     A     A     A     A     A     A     A   \n",
              "3     A     A     A     A     A     A     A     A     A     A     A     B   \n",
              "4     A     A     A     A     A     A     A     A     A     A     B     A   \n",
              "\n",
              "  cat74 cat75 cat76 cat77 cat78 cat79 cat80 cat81 cat82 cat83 cat84 cat85  \\\n",
              "0     A     B     A     D     B     B     D     D     B     D     C     B   \n",
              "1     A     A     A     D     B     B     D     D     A     B     C     B   \n",
              "2     A     A     A     D     B     B     B     D     B     D     C     B   \n",
              "3     A     A     A     D     B     B     D     D     D     B     C     B   \n",
              "4     A     A     A     D     B     D     B     D     B     B     C     B   \n",
              "\n",
              "  cat86 cat87 cat88 cat89 cat90 cat91 cat92 cat93 cat94 cat95 cat96 cat97  \\\n",
              "0     D     B     A     A     A     A     A     D     B     C     E     A   \n",
              "1     D     B     A     A     A     A     A     D     D     C     E     E   \n",
              "2     B     B     A     A     A     A     A     D     D     C     E     E   \n",
              "3     D     B     A     A     A     A     A     D     D     C     E     E   \n",
              "4     B     C     A     A     A     B     H     D     B     D     E     E   \n",
              "\n",
              "  cat98 cat99 cat100 cat101 cat102 cat103 cat104 cat105 cat106 cat107 cat108  \\\n",
              "0     C     T      B      G      A      A      I      E      G      J      G   \n",
              "1     D     T      L      F      A      A      E      E      I      K      K   \n",
              "2     A     D      L      O      A      B      E      F      H      F      A   \n",
              "3     D     T      I      D      A      A      E      E      I      K      K   \n",
              "4     A     P      F      J      A      A      D      E      K      G      B   \n",
              "\n",
              "  cat109 cat110 cat111 cat112 cat113 cat114 cat115 cat116     cont1     cont2  \\\n",
              "0     BU     BC      C     AS      S      A      O     LB  0.726300  0.245921   \n",
              "1     BI     CQ      A     AV     BM      A      O     DP  0.330514  0.737068   \n",
              "2     AB     DK      A      C     AF      A      I     GK  0.261841  0.358319   \n",
              "3     BI     CS      C      N     AE      A      O     DJ  0.321594  0.555782   \n",
              "4      H      C      C      Y     BM      A      K     CK  0.273204  0.159990   \n",
              "\n",
              "      cont3     cont4     cont5     cont6     cont7    cont8    cont9  \\\n",
              "0  0.187583  0.789639  0.310061  0.718367  0.335060  0.30260  0.67135   \n",
              "1  0.592681  0.614134  0.885834  0.438917  0.436585  0.60087  0.35127   \n",
              "2  0.484196  0.236924  0.397069  0.289648  0.315545  0.27320  0.26076   \n",
              "3  0.527991  0.373816  0.422268  0.440945  0.391128  0.31796  0.32128   \n",
              "4  0.527991  0.473202  0.704268  0.178193  0.247408  0.24564  0.22089   \n",
              "\n",
              "    cont10    cont11    cont12    cont13    cont14     loss  \n",
              "0  0.83510  0.569745  0.594646  0.822493  0.714843  2213.18  \n",
              "1  0.43919  0.338312  0.366307  0.611431  0.304496  1283.60  \n",
              "2  0.32446  0.381398  0.373424  0.195709  0.774425  3005.09  \n",
              "3  0.44467  0.327915  0.321570  0.605077  0.602642   939.85  \n",
              "4  0.21230  0.204687  0.202213  0.246011  0.432606  2763.85  "
            ]
          },
          "metadata": {
            "tags": []
          },
          "execution_count": 5
        }
      ]
    },
    {
      "cell_type": "code",
      "metadata": {
        "id": "irRU3mtcw0GE",
        "colab_type": "code",
        "outputId": "cd99f24b-d94b-496a-e023-7eec6250c357",
        "colab": {
          "base_uri": "https://localhost:8080/",
          "height": 34
        }
      },
      "source": [
        "train.shape"
      ],
      "execution_count": 6,
      "outputs": [
        {
          "output_type": "execute_result",
          "data": {
            "text/plain": [
              "(188318, 132)"
            ]
          },
          "metadata": {
            "tags": []
          },
          "execution_count": 6
        }
      ]
    },
    {
      "cell_type": "code",
      "metadata": {
        "id": "iOcpxRVtJK_d",
        "colab_type": "code",
        "colab": {
          "base_uri": "https://localhost:8080/",
          "height": 34
        },
        "outputId": "263dfc64-49ce-4e12-f913-89f41f6b2fe5"
      },
      "source": [
        "test.shape"
      ],
      "execution_count": 7,
      "outputs": [
        {
          "output_type": "execute_result",
          "data": {
            "text/plain": [
              "(125546, 131)"
            ]
          },
          "metadata": {
            "tags": []
          },
          "execution_count": 7
        }
      ]
    },
    {
      "cell_type": "code",
      "metadata": {
        "id": "E634MNu3IZ5g",
        "colab_type": "code",
        "colab": {
          "base_uri": "https://localhost:8080/",
          "height": 34
        },
        "outputId": "5967af82-c0b7-427b-a9a7-03f027c65fdd"
      },
      "source": [
        "#cheecking for null values\n",
        "pd.isnull(train).values.any()"
      ],
      "execution_count": 8,
      "outputs": [
        {
          "output_type": "execute_result",
          "data": {
            "text/plain": [
              "False"
            ]
          },
          "metadata": {
            "tags": []
          },
          "execution_count": 8
        }
      ]
    },
    {
      "cell_type": "code",
      "metadata": {
        "id": "RV6h1Zl7JaPE",
        "colab_type": "code",
        "colab": {
          "base_uri": "https://localhost:8080/",
          "height": 102
        },
        "outputId": "08246ee0-e96d-4928-a2fc-f8fe734a9f07"
      },
      "source": [
        "train.info()\n",
        "#15 continous values and 116 categorical values"
      ],
      "execution_count": 9,
      "outputs": [
        {
          "output_type": "stream",
          "text": [
            "<class 'pandas.core.frame.DataFrame'>\n",
            "RangeIndex: 188318 entries, 0 to 188317\n",
            "Columns: 132 entries, id to loss\n",
            "dtypes: float64(15), int64(1), object(116)\n",
            "memory usage: 189.7+ MB\n"
          ],
          "name": "stdout"
        }
      ]
    },
    {
      "cell_type": "code",
      "metadata": {
        "id": "xDLqOeQYJkUs",
        "colab_type": "code",
        "colab": {}
      },
      "source": [
        "#separating categorical values into cat_feature and continous values into cont_feature\n",
        "cat_feature = list(train.select_dtypes(include=['object']).columns)\n",
        "cont_feature = [cont for cont in list(train.select_dtypes(include=['float64','int64']).columns)if cont not in ['loss','id']]\n",
        "id_col = list(train.select_dtypes(include=['int64']).columns)"
      ],
      "execution_count": 0,
      "outputs": []
    },
    {
      "cell_type": "code",
      "metadata": {
        "id": "JYek3MccKQXA",
        "colab_type": "code",
        "colab": {
          "base_uri": "https://localhost:8080/",
          "height": 204
        },
        "outputId": "c8ec89e0-e3ff-4680-ef07-a6c285dba16b"
      },
      "source": [
        "#checking categorical values\n",
        "cat_uniques = []\n",
        "for i in cat_feature:\n",
        "    cat_uniques.append(len(train[i].unique()))\n",
        "uniqueValue = pd.DataFrame.from_items([('cat_name',cat_feature),('uniqueValue',cat_uniques)])\n",
        "uniqueValue.head()"
      ],
      "execution_count": 31,
      "outputs": [
        {
          "output_type": "execute_result",
          "data": {
            "text/html": [
              "<div>\n",
              "<style scoped>\n",
              "    .dataframe tbody tr th:only-of-type {\n",
              "        vertical-align: middle;\n",
              "    }\n",
              "\n",
              "    .dataframe tbody tr th {\n",
              "        vertical-align: top;\n",
              "    }\n",
              "\n",
              "    .dataframe thead th {\n",
              "        text-align: right;\n",
              "    }\n",
              "</style>\n",
              "<table border=\"1\" class=\"dataframe\">\n",
              "  <thead>\n",
              "    <tr style=\"text-align: right;\">\n",
              "      <th></th>\n",
              "      <th>cat_name</th>\n",
              "      <th>uniqueValue</th>\n",
              "    </tr>\n",
              "  </thead>\n",
              "  <tbody>\n",
              "    <tr>\n",
              "      <th>0</th>\n",
              "      <td>cat1</td>\n",
              "      <td>2</td>\n",
              "    </tr>\n",
              "    <tr>\n",
              "      <th>1</th>\n",
              "      <td>cat2</td>\n",
              "      <td>2</td>\n",
              "    </tr>\n",
              "    <tr>\n",
              "      <th>2</th>\n",
              "      <td>cat3</td>\n",
              "      <td>2</td>\n",
              "    </tr>\n",
              "    <tr>\n",
              "      <th>3</th>\n",
              "      <td>cat4</td>\n",
              "      <td>2</td>\n",
              "    </tr>\n",
              "    <tr>\n",
              "      <th>4</th>\n",
              "      <td>cat5</td>\n",
              "      <td>2</td>\n",
              "    </tr>\n",
              "  </tbody>\n",
              "</table>\n",
              "</div>"
            ],
            "text/plain": [
              "  cat_name  uniqueValue\n",
              "0     cat1            2\n",
              "1     cat2            2\n",
              "2     cat3            2\n",
              "3     cat4            2\n",
              "4     cat5            2"
            ]
          },
          "metadata": {
            "tags": []
          },
          "execution_count": 31
        }
      ]
    },
    {
      "cell_type": "code",
      "metadata": {
        "id": "_yo2DpUSKXfh",
        "colab_type": "code",
        "colab": {
          "base_uri": "https://localhost:8080/",
          "height": 353
        },
        "outputId": "64206d2b-bf29-4ac4-ab27-60a9f29382f4"
      },
      "source": [
        "#checking all unique features\n",
        "fig,(ax1,ax2) = plt.subplots(1,2)\n",
        "fig.set_size_inches(16,5)\n",
        "ax1.hist(uniqueValue.uniqueValue,bins=50)\n",
        "ax2.hist(uniqueValue[uniqueValue.uniqueValue<=10].uniqueValue,bins=30)\n",
        "ax1.set_title('All features(Categories)')\n",
        "ax2.set_title('Zoom in top 10 categories')\n"
      ],
      "execution_count": 12,
      "outputs": [
        {
          "output_type": "execute_result",
          "data": {
            "text/plain": [
              "Text(0.5, 1.0, 'Zoom in top 10 categories')"
            ]
          },
          "metadata": {
            "tags": []
          },
          "execution_count": 12
        },
        {
          "output_type": "display_data",
          "data": {
            "image/png": "[encoded data removed]",
            "text/plain": [
              "<Figure size 1152x360 with 2 Axes>"
            ]
          },
          "metadata": {
            "tags": []
          }
        }
      ]
    },
    {
      "cell_type": "code",
      "metadata": {
        "id": "xjrdnQOxKmfF",
        "colab_type": "code",
        "colab": {
          "base_uri": "https://localhost:8080/",
          "height": 530
        },
        "outputId": "8f58fe61-b288-4ce0-cecc-0d3b990e731f"
      },
      "source": [
        "#plotting id vs loss to see distribution loss\n",
        "plt.figure(figsize=(16,8))\n",
        "plt.plot(train['id'],train['loss'])\n",
        "plt.title('loss value')\n",
        "plt.xlabel('Id');plt.ylabel('loss')\n"
      ],
      "execution_count": 13,
      "outputs": [
        {
          "output_type": "execute_result",
          "data": {
            "text/plain": [
              "Text(0, 0.5, 'loss')"
            ]
          },
          "metadata": {
            "tags": []
          },
          "execution_count": 13
        },
        {
          "output_type": "display_data",
          "data": {
            "image/png": "[encoded data removed]",
            "text/plain": [
              "<Figure size 1152x576 with 1 Axes>"
            ]
          },
          "metadata": {
            "tags": []
          }
        }
      ]
    },
    {
      "cell_type": "code",
      "metadata": {
        "id": "LmN7kPCPLI-8",
        "colab_type": "code",
        "colab": {
          "base_uri": "https://localhost:8080/",
          "height": 269
        },
        "outputId": "bd0ba75e-c20c-44ce-fd44-7acaa5d0d60f"
      },
      "source": [
        "#checking distribution of loss in violinplot\n",
        "sns.violinplot(data=train,y=\"loss\") "
      ],
      "execution_count": 14,
      "outputs": [
        {
          "output_type": "execute_result",
          "data": {
            "text/plain": [
              "<matplotlib.axes._subplots.AxesSubplot at 0x7f37e1dba978>"
            ]
          },
          "metadata": {
            "tags": []
          },
          "execution_count": 14
        },
        {
          "output_type": "display_data",
          "data": {
            "image/png": "[encoded data removed]",
            "text/plain": [
              "<Figure size 432x288 with 1 Axes>"
            ]
          },
          "metadata": {
            "tags": []
          }
        }
      ]
    },
    {
      "cell_type": "code",
      "metadata": {
        "id": "2JHs01WCLgIy",
        "colab_type": "code",
        "colab": {
          "base_uri": "https://localhost:8080/",
          "height": 68
        },
        "outputId": "4361dd42-3abe-441e-9490-f19e5f1df3bf"
      },
      "source": [
        "#checking skewness\n",
        "from scipy import stats\n",
        "stats.mstats.skew(train['loss'])"
      ],
      "execution_count": 32,
      "outputs": [
        {
          "output_type": "execute_result",
          "data": {
            "text/plain": [
              "masked_array(data=3.79492815,\n",
              "             mask=False,\n",
              "       fill_value=1e+20)"
            ]
          },
          "metadata": {
            "tags": []
          },
          "execution_count": 32
        }
      ]
    },
    {
      "cell_type": "code",
      "metadata": {
        "id": "sqNdv2tRWAUJ",
        "colab_type": "code",
        "colab": {}
      },
      "source": [
        ""
      ],
      "execution_count": 0,
      "outputs": []
    },
    {
      "cell_type": "markdown",
      "metadata": {
        "id": "fzeIxGUgMHoV",
        "colab_type": "text"
      },
      "source": [
        "skewed value greater than > 3.7 shows Right Skew"
      ]
    },
    {
      "cell_type": "code",
      "metadata": {
        "id": "LdP7KudVWBvn",
        "colab_type": "code",
        "colab": {
          "base_uri": "https://localhost:8080/",
          "height": 68
        },
        "outputId": "40397912-19e2-458a-ae86-624308b1da17"
      },
      "source": [
        "stats.mstats.skew(np.log(train['loss']))"
      ],
      "execution_count": 33,
      "outputs": [
        {
          "output_type": "execute_result",
          "data": {
            "text/plain": [
              "masked_array(data=0.0929738,\n",
              "             mask=False,\n",
              "       fill_value=1e+20)"
            ]
          },
          "metadata": {
            "tags": []
          },
          "execution_count": 33
        }
      ]
    },
    {
      "cell_type": "code",
      "metadata": {
        "id": "rbnw4T6eL2F-",
        "colab_type": "code",
        "colab": {}
      },
      "source": [
        "#Transforming loss through a log transformation\n",
        "train['log_loss']=stats.mstats.skew(np.log(train['loss']))\n"
      ],
      "execution_count": 0,
      "outputs": []
    },
    {
      "cell_type": "code",
      "metadata": {
        "id": "GtpZvaP2WIb0",
        "colab_type": "code",
        "colab": {
          "base_uri": "https://localhost:8080/",
          "height": 336
        },
        "outputId": "dd623ef7-70b4-4e35-b8aa-28b9740255a8"
      },
      "source": [
        "fig,(ax1,ax2) = plt.subplots(1,2)\n",
        "fig.set_size_inches(16,5)\n",
        "ax1.hist(train['loss'],bins=50)\n",
        "ax1.set_title('original scale of loss')\n",
        "ax2.hist(np.log(train['loss']),bins=50,color='g')\n",
        "ax2.set_title('log scale of loss')\n",
        "ax1.grid(True)\n",
        "ax2.grid(True)\n"
      ],
      "execution_count": 35,
      "outputs": [
        {
          "output_type": "display_data",
          "data": {
            "image/png": "[encoded data removed]",
            "text/plain": [
              "<Figure size 1152x360 with 2 Axes>"
            ]
          },
          "metadata": {
            "tags": []
          }
        }
      ]
    },
    {
      "cell_type": "code",
      "metadata": {
        "id": "0iLN7JyAM6h6",
        "colab_type": "code",
        "colab": {
          "base_uri": "https://localhost:8080/",
          "height": 1000
        },
        "outputId": "f70c913f-0bda-4f10-f52a-2f4692cd3491"
      },
      "source": [
        "#checking the continous features in yhe dataset\n",
        "train[cont_feature].hist(bins=50,figsize=(16,12))"
      ],
      "execution_count": 18,
      "outputs": [
        {
          "output_type": "execute_result",
          "data": {
            "text/plain": [
              "array([[<matplotlib.axes._subplots.AxesSubplot object at 0x7f37e205d9b0>,\n",
              "        <matplotlib.axes._subplots.AxesSubplot object at 0x7f37defc6ba8>,\n",
              "        <matplotlib.axes._subplots.AxesSubplot object at 0x7f37dd576cf8>,\n",
              "        <matplotlib.axes._subplots.AxesSubplot object at 0x7f37de59de48>],\n",
              "       [<matplotlib.axes._subplots.AxesSubplot object at 0x7f37de569f98>,\n",
              "        <matplotlib.axes._subplots.AxesSubplot object at 0x7f37de7a1128>,\n",
              "        <matplotlib.axes._subplots.AxesSubplot object at 0x7f37de755470>,\n",
              "        <matplotlib.axes._subplots.AxesSubplot object at 0x7f37de704a58>],\n",
              "       [<matplotlib.axes._subplots.AxesSubplot object at 0x7f37de704a90>,\n",
              "        <matplotlib.axes._subplots.AxesSubplot object at 0x7f37de6755c0>,\n",
              "        <matplotlib.axes._subplots.AxesSubplot object at 0x7f37de625b70>,\n",
              "        <matplotlib.axes._subplots.AxesSubplot object at 0x7f37de5e5160>],\n",
              "       [<matplotlib.axes._subplots.AxesSubplot object at 0x7f37de614710>,\n",
              "        <matplotlib.axes._subplots.AxesSubplot object at 0x7f37ddd46cc0>,\n",
              "        <matplotlib.axes._subplots.AxesSubplot object at 0x7f37ddd032b0>,\n",
              "        <matplotlib.axes._subplots.AxesSubplot object at 0x7f37ddcb4860>]],\n",
              "      dtype=object)"
            ]
          },
          "metadata": {
            "tags": []
          },
          "execution_count": 18
        },
        {
          "output_type": "display_data",
          "data": {
            "image/png": "[encoded data removed]",
            "text/plain": [
              "<Figure size 1152x864 with 16 Axes>"
            ]
          },
          "metadata": {
            "tags": []
          }
        }
      ]
    },
    {
      "cell_type": "code",
      "metadata": {
        "id": "yQWOgo3tN7WX",
        "colab_type": "code",
        "colab": {
          "base_uri": "https://localhost:8080/",
          "height": 558
        },
        "outputId": "fbf389bc-d58f-44b5-f6db-a9a8e0b4508a"
      },
      "source": [
        "#checking correlation\n",
        "plt.subplots(figsize=(16,9))\n",
        "correlation_mat = train[cont_feature].corr()\n",
        "sns.heatmap(correlation_mat,annot=True)"
      ],
      "execution_count": 19,
      "outputs": [
        {
          "output_type": "execute_result",
          "data": {
            "text/plain": [
              "<matplotlib.axes._subplots.AxesSubplot at 0x7f37dcb402b0>"
            ]
          },
          "metadata": {
            "tags": []
          },
          "execution_count": 19
        },
        {
          "output_type": "display_data",
          "data": {
            "image/png": "[encoded data removed]",
            "text/plain": [
              "<Figure size 1152x648 with 2 Axes>"
            ]
          },
          "metadata": {
            "tags": []
          }
        }
      ]
    },
    {
      "cell_type": "code",
      "metadata": {
        "id": "K6grZ4ZbWdq6",
        "colab_type": "code",
        "colab": {}
      },
      "source": [
        "train['log_loss'] = np.log(train['loss'])"
      ],
      "execution_count": 0,
      "outputs": []
    },
    {
      "cell_type": "code",
      "metadata": {
        "id": "YXiiaySROuPW",
        "colab_type": "code",
        "colab": {}
      },
      "source": [
        "#deleting Highly correlated columns i.e, correlation > 0.85\n",
        "train = train.drop(['cont9','cont10','cont11'],axis=1)"
      ],
      "execution_count": 0,
      "outputs": []
    },
    {
      "cell_type": "code",
      "metadata": {
        "id": "o3g80CjbPFYR",
        "colab_type": "code",
        "colab": {}
      },
      "source": [
        "#defining a method to check the model performance\n",
        "def xg_evaluation(yhat,dtrain):\n",
        "    y = dtrain.get_label()\n",
        "    return 'MAE', mean_absolute_error(np.exp(y),np.exp(yhat))"
      ],
      "execution_count": 0,
      "outputs": []
    },
    {
      "cell_type": "code",
      "metadata": {
        "id": "G8PBkiRJPdvD",
        "colab_type": "code",
        "colab": {}
      },
      "source": [
        "features = [x for x in train.columns if x not in ['id','loss','log_loss']]\n"
      ],
      "execution_count": 0,
      "outputs": []
    },
    {
      "cell_type": "code",
      "metadata": {
        "id": "-tfQ6fCHPn93",
        "colab_type": "code",
        "colab": {}
      },
      "source": [
        "#Encoding the features\n",
        "\n",
        "ntrain = train.shape[0]\n",
        "train_x = train[features]\n",
        "train_y = train['log_loss']\n",
        "for i in range(len(cat_feature)):\n",
        "    train_x[cat_feature[i]] = train_x[cat_feature[i]].astype('category').cat.codes\n"
      ],
      "execution_count": 0,
      "outputs": []
    },
    {
      "cell_type": "code",
      "metadata": {
        "id": "2GQTk6GGPyLa",
        "colab_type": "code",
        "colab": {}
      },
      "source": [
        "#fitting XGBoost\n",
        "import xgboost as xgb\n",
        "from xgboost import XGBRegressor\n",
        "from sklearn.model_selection import KFold,train_test_split\n",
        "\n",
        "dtrain = xgb.DMatrix(train_x,train['log_loss'])\n",
        "xgb_parameter = {\n",
        "    'seed':0,\n",
        "    'eta':0.1,\n",
        "    'colsample_bytree':0.5,\n",
        "    'slient':1,\n",
        "    'subsample':0.5,\n",
        "    'objective':'reg:linear',\n",
        "    'max_depth':5,\n",
        "    'min_child_weight':3\n",
        "}"
      ],
      "execution_count": 0,
      "outputs": []
    },
    {
      "cell_type": "code",
      "metadata": {
        "id": "pkaNP1qPQxxD",
        "colab_type": "code",
        "colab": {
          "base_uri": "https://localhost:8080/",
          "height": 68
        },
        "outputId": "31d2e653-fb67-4e60-f867-660148906b31"
      },
      "source": [
        "# implementing cross-validation\n",
        "bst_cv1 = xgb.cv(xgb_parameter,dtrain,num_boost_round=50,nfold=3,seed=0,feval=xg_evaluation,maximize=False,early_stopping_rounds=10)\n"
      ],
      "execution_count": 43,
      "outputs": [
        {
          "output_type": "stream",
          "text": [
            "[05:52:50] WARNING: /workspace/src/objective/regression_obj.cu:152: reg:linear is now deprecated in favor of reg:squarederror.\n",
            "[05:52:52] WARNING: /workspace/src/objective/regression_obj.cu:152: reg:linear is now deprecated in favor of reg:squarederror.\n",
            "[05:52:53] WARNING: /workspace/src/objective/regression_obj.cu:152: reg:linear is now deprecated in favor of reg:squarederror.\n"
          ],
          "name": "stdout"
        }
      ]
    },
    {
      "cell_type": "code",
      "metadata": {
        "id": "z5SdxdNuQ-9v",
        "colab_type": "code",
        "colab": {
          "base_uri": "https://localhost:8080/",
          "height": 204
        },
        "outputId": "e02623fd-eb7b-4ec0-8632-0349a34e2de3"
      },
      "source": [
        "cv1.head()"
      ],
      "execution_count": 45,
      "outputs": [
        {
          "output_type": "execute_result",
          "data": {
            "text/html": [
              "<div>\n",
              "<style scoped>\n",
              "    .dataframe tbody tr th:only-of-type {\n",
              "        vertical-align: middle;\n",
              "    }\n",
              "\n",
              "    .dataframe tbody tr th {\n",
              "        vertical-align: top;\n",
              "    }\n",
              "\n",
              "    .dataframe thead th {\n",
              "        text-align: right;\n",
              "    }\n",
              "</style>\n",
              "<table border=\"1\" class=\"dataframe\">\n",
              "  <thead>\n",
              "    <tr style=\"text-align: right;\">\n",
              "      <th></th>\n",
              "      <th>train-MAE-mean</th>\n",
              "      <th>train-MAE-std</th>\n",
              "      <th>train-rmse-mean</th>\n",
              "      <th>train-rmse-std</th>\n",
              "      <th>test-MAE-mean</th>\n",
              "      <th>test-MAE-std</th>\n",
              "      <th>test-rmse-mean</th>\n",
              "      <th>test-rmse-std</th>\n",
              "    </tr>\n",
              "  </thead>\n",
              "  <tbody>\n",
              "    <tr>\n",
              "      <th>0</th>\n",
              "      <td>0.485529</td>\n",
              "      <td>5.551115e-17</td>\n",
              "      <td>0.366388</td>\n",
              "      <td>0.0</td>\n",
              "      <td>0.485529</td>\n",
              "      <td>5.551115e-17</td>\n",
              "      <td>0.366374</td>\n",
              "      <td>0.0</td>\n",
              "    </tr>\n",
              "    <tr>\n",
              "      <th>1</th>\n",
              "      <td>0.428592</td>\n",
              "      <td>5.551115e-17</td>\n",
              "      <td>0.329771</td>\n",
              "      <td>0.0</td>\n",
              "      <td>0.428592</td>\n",
              "      <td>5.551115e-17</td>\n",
              "      <td>0.329637</td>\n",
              "      <td>0.0</td>\n",
              "    </tr>\n",
              "    <tr>\n",
              "      <th>2</th>\n",
              "      <td>0.379101</td>\n",
              "      <td>5.551115e-17</td>\n",
              "      <td>0.296706</td>\n",
              "      <td>0.0</td>\n",
              "      <td>0.379101</td>\n",
              "      <td>5.551115e-17</td>\n",
              "      <td>0.296751</td>\n",
              "      <td>0.0</td>\n",
              "    </tr>\n",
              "    <tr>\n",
              "      <th>3</th>\n",
              "      <td>0.335933</td>\n",
              "      <td>0.000000e+00</td>\n",
              "      <td>0.267007</td>\n",
              "      <td>0.0</td>\n",
              "      <td>0.335933</td>\n",
              "      <td>0.000000e+00</td>\n",
              "      <td>0.267013</td>\n",
              "      <td>0.0</td>\n",
              "    </tr>\n",
              "    <tr>\n",
              "      <th>4</th>\n",
              "      <td>0.298162</td>\n",
              "      <td>0.000000e+00</td>\n",
              "      <td>0.240409</td>\n",
              "      <td>0.0</td>\n",
              "      <td>0.298162</td>\n",
              "      <td>0.000000e+00</td>\n",
              "      <td>0.240308</td>\n",
              "      <td>0.0</td>\n",
              "    </tr>\n",
              "  </tbody>\n",
              "</table>\n",
              "</div>"
            ],
            "text/plain": [
              "   train-MAE-mean  train-MAE-std  train-rmse-mean  train-rmse-std  \\\n",
              "0        0.485529   5.551115e-17         0.366388             0.0   \n",
              "1        0.428592   5.551115e-17         0.329771             0.0   \n",
              "2        0.379101   5.551115e-17         0.296706             0.0   \n",
              "3        0.335933   0.000000e+00         0.267007             0.0   \n",
              "4        0.298162   0.000000e+00         0.240409             0.0   \n",
              "\n",
              "   test-MAE-mean  test-MAE-std  test-rmse-mean  test-rmse-std  \n",
              "0       0.485529  5.551115e-17        0.366374            0.0  \n",
              "1       0.428592  5.551115e-17        0.329637            0.0  \n",
              "2       0.379101  5.551115e-17        0.296751            0.0  \n",
              "3       0.335933  0.000000e+00        0.267013            0.0  \n",
              "4       0.298162  0.000000e+00        0.240308            0.0  "
            ]
          },
          "metadata": {
            "tags": []
          },
          "execution_count": 45
        }
      ]
    },
    {
      "cell_type": "code",
      "metadata": {
        "id": "aHxsvgsTSGRW",
        "colab_type": "code",
        "colab": {
          "base_uri": "https://localhost:8080/",
          "height": 51
        },
        "outputId": "741ab230-f903-4228-ee65-51326bb64d4e"
      },
      "source": [
        "print('cv score',bst_cv1.iloc[-1:]['test-MAE-mean'])\n",
        "#MAE = 1219.39"
      ],
      "execution_count": 44,
      "outputs": [
        {
          "output_type": "stream",
          "text": [
            "cv score 49    1219.3962\n",
            "Name: test-MAE-mean, dtype: float64\n"
          ],
          "name": "stdout"
        }
      ]
    },
    {
      "cell_type": "code",
      "metadata": {
        "id": "o06ALdsqSRIC",
        "colab_type": "code",
        "colab": {
          "base_uri": "https://localhost:8080/",
          "height": 299
        },
        "outputId": "1a1a3af0-f7e7-4e10-d7e3-c92d1fb5b04c"
      },
      "source": [
        "\n",
        "plt.figure()\n",
        "bst_cv1[['train-MAE-mean','test-MAE-mean']].plot()\n",
        "#not overfitting"
      ],
      "execution_count": 47,
      "outputs": [
        {
          "output_type": "execute_result",
          "data": {
            "text/plain": [
              "<matplotlib.axes._subplots.AxesSubplot at 0x7f37d0097b70>"
            ]
          },
          "metadata": {
            "tags": []
          },
          "execution_count": 47
        },
        {
          "output_type": "display_data",
          "data": {
            "text/plain": [
              "<Figure size 432x288 with 0 Axes>"
            ]
          },
          "metadata": {
            "tags": []
          }
        },
        {
          "output_type": "display_data",
          "data": {
            "image/png": "[encoded data removed]",
            "text/plain": [
              "<Figure size 432x288 with 1 Axes>"
            ]
          },
          "metadata": {
            "tags": []
          }
        }
      ]
    },
    {
      "cell_type": "code",
      "metadata": {
        "id": "UREtAe-IShM1",
        "colab_type": "code",
        "colab": {
          "base_uri": "https://localhost:8080/",
          "height": 68
        },
        "outputId": "01f4831d-af0f-4490-ccfa-6bb32b385c85"
      },
      "source": [
        "#using 100 trees to estimate\n",
        "bst_cv2 = xgb.cv(xgb_parameter,dtrain,num_boost_round=100,nfold=3,seed=0,feval=xg_evaluation,maximize=False,early_stopping_rounds=10)"
      ],
      "execution_count": 48,
      "outputs": [
        {
          "output_type": "stream",
          "text": [
            "[05:55:39] WARNING: /workspace/src/objective/regression_obj.cu:152: reg:linear is now deprecated in favor of reg:squarederror.\n",
            "[05:55:40] WARNING: /workspace/src/objective/regression_obj.cu:152: reg:linear is now deprecated in favor of reg:squarederror.\n",
            "[05:55:41] WARNING: /workspace/src/objective/regression_obj.cu:152: reg:linear is now deprecated in favor of reg:squarederror.\n"
          ],
          "name": "stdout"
        }
      ]
    },
    {
      "cell_type": "code",
      "metadata": {
        "id": "bcjih_liXvTG",
        "colab_type": "code",
        "colab": {
          "base_uri": "https://localhost:8080/",
          "height": 51
        },
        "outputId": "7a37cf95-94f4-4f15-c713-bf59c5bdc543"
      },
      "source": [
        "print('cv score',bst_cv2.iloc[-1:]['test-MAE-mean'])"
      ],
      "execution_count": 49,
      "outputs": [
        {
          "output_type": "stream",
          "text": [
            "cv score 99    1171.350179\n",
            "Name: test-MAE-mean, dtype: float64\n"
          ],
          "name": "stdout"
        }
      ]
    },
    {
      "cell_type": "code",
      "metadata": {
        "id": "EcrQWgh0XzKX",
        "colab_type": "code",
        "colab": {
          "base_uri": "https://localhost:8080/",
          "height": 313
        },
        "outputId": "4e698a0d-a6bb-4b54-f61e-f3d12d6c52c7"
      },
      "source": [
        "\n",
        "plt.figure()\n",
        "ax = bst_cv2.iloc[40:][['train-MAE-mean','test-MAE-mean']].plot()\n",
        "ax.set_xlabel('round')\n",
        "ax.set_ylabel('loss')\n",
        "#better results from cv1 but little overfitting"
      ],
      "execution_count": 50,
      "outputs": [
        {
          "output_type": "execute_result",
          "data": {
            "text/plain": [
              "Text(0, 0.5, 'loss')"
            ]
          },
          "metadata": {
            "tags": []
          },
          "execution_count": 50
        },
        {
          "output_type": "display_data",
          "data": {
            "text/plain": [
              "<Figure size 432x288 with 0 Axes>"
            ]
          },
          "metadata": {
            "tags": []
          }
        },
        {
          "output_type": "display_data",
          "data": {
            "image/png": "[encoded data removed]",
            "text/plain": [
              "<Figure size 432x288 with 1 Axes>"
            ]
          },
          "metadata": {
            "tags": []
          }
        }
      ]
    },
    {
      "cell_type": "code",
      "metadata": {
        "id": "C7nI_-8BYA8I",
        "colab_type": "code",
        "colab": {}
      },
      "source": [
        "#choosing inital parameters\n",
        "#changing max_depth and min_child_weight\n",
        "#changing gamma to lower the overfitting\n",
        "#changing subsample and colsample_bytree[change sampling strategy]\n",
        "#changing learning rate eta\n",
        "\n",
        "def mea_score(y_true,y_pred):\n",
        "    return mean_absolute_error(np.exp(y_true),np.exp(y_pred))\n",
        "\n",
        "#recalling inintial\n",
        "xgb_parameter = {\n",
        "    'seed':0,\n",
        "    'eta':0.1,\n",
        "    'colsample_bytree':0.5,\n",
        "    'slient':1,\n",
        "    'subsample':0.5,\n",
        "    'objective':'reg:linear',\n",
        "    'max_depth':5,\n",
        "    'min_child_weight':3\n",
        "}\n",
        "#max_depth=8,min_child_weight=6 \n"
      ],
      "execution_count": 0,
      "outputs": []
    },
    {
      "cell_type": "code",
      "metadata": {
        "id": "kXQ-9pMMY2ew",
        "colab_type": "code",
        "colab": {}
      },
      "source": [
        "#max_depth=8,min_child_weight=6 \n",
        "xgb_parameter_v1 = {\n",
        "    'seed':0,\n",
        "    'eta':0.1,\n",
        "    'colsample_bytree':0.5,\n",
        "    'slient':1,\n",
        "    'subsample':0.5,\n",
        "    'objective':'reg:linear',\n",
        "    'max_depth':8,\n",
        "    'min_child_weight':6\n",
        "}"
      ],
      "execution_count": 0,
      "outputs": []
    },
    {
      "cell_type": "code",
      "metadata": {
        "id": "dCiPTXLUZMGc",
        "colab_type": "code",
        "colab": {
          "base_uri": "https://localhost:8080/",
          "height": 68
        },
        "outputId": "df63c932-5e74-4a56-98f1-8ec6e13ec349"
      },
      "source": [
        "bst_cv3 = xgb.cv(xgb_parameter_v1,dtrain,num_boost_round=50,nfold=3,seed=0,feval=xg_evaluation,maximize=False,early_stopping_rounds=10)"
      ],
      "execution_count": 56,
      "outputs": [
        {
          "output_type": "stream",
          "text": [
            "[06:02:24] WARNING: /workspace/src/objective/regression_obj.cu:152: reg:linear is now deprecated in favor of reg:squarederror.\n",
            "[06:02:25] WARNING: /workspace/src/objective/regression_obj.cu:152: reg:linear is now deprecated in favor of reg:squarederror.\n",
            "[06:02:27] WARNING: /workspace/src/objective/regression_obj.cu:152: reg:linear is now deprecated in favor of reg:squarederror.\n"
          ],
          "name": "stdout"
        }
      ]
    },
    {
      "cell_type": "code",
      "metadata": {
        "id": "x3-xEBTZZSIF",
        "colab_type": "code",
        "colab": {
          "base_uri": "https://localhost:8080/",
          "height": 51
        },
        "outputId": "ccf2a248-6898-426c-b5e0-5df69d02ab82"
      },
      "source": [
        "print('cv score',bst_cv3.iloc[-1:]['test-MAE-mean'])"
      ],
      "execution_count": 57,
      "outputs": [
        {
          "output_type": "stream",
          "text": [
            "cv score 49    1188.788615\n",
            "Name: test-MAE-mean, dtype: float64\n"
          ],
          "name": "stdout"
        }
      ]
    },
    {
      "cell_type": "code",
      "metadata": {
        "id": "QfS97WYaZaJ3",
        "colab_type": "code",
        "colab": {}
      },
      "source": [
        "#0.3 gamma fits the best\n",
        "xgb_parameter_v2 = {\n",
        "    'seed':0,\n",
        "    'eta':0.1,\n",
        "    'colsample_bytree':0.5,\n",
        "    'slient':1,\n",
        "    'subsample':0.5,\n",
        "    'objective':'reg:linear',\n",
        "    'max_depth':8,\n",
        "    'min_child_weight':6,\n",
        "    'gamma':0.3\n",
        "}"
      ],
      "execution_count": 0,
      "outputs": []
    },
    {
      "cell_type": "code",
      "metadata": {
        "id": "GX8pbDshZsu9",
        "colab_type": "code",
        "colab": {
          "base_uri": "https://localhost:8080/",
          "height": 68
        },
        "outputId": "658ca508-45fd-4a69-d12f-bce33d12ec85"
      },
      "source": [
        "bst_cv4 = xgb.cv(xgb_parameter_v2,dtrain,num_boost_round=50,nfold=3,seed=0,feval=xg_evaluation,maximize=False,early_stopping_rounds=10)"
      ],
      "execution_count": 59,
      "outputs": [
        {
          "output_type": "stream",
          "text": [
            "[06:04:25] WARNING: /workspace/src/objective/regression_obj.cu:152: reg:linear is now deprecated in favor of reg:squarederror.\n",
            "[06:04:27] WARNING: /workspace/src/objective/regression_obj.cu:152: reg:linear is now deprecated in favor of reg:squarederror.\n",
            "[06:04:28] WARNING: /workspace/src/objective/regression_obj.cu:152: reg:linear is now deprecated in favor of reg:squarederror.\n"
          ],
          "name": "stdout"
        }
      ]
    },
    {
      "cell_type": "code",
      "metadata": {
        "id": "3qlHVfq-ZvzS",
        "colab_type": "code",
        "colab": {
          "base_uri": "https://localhost:8080/",
          "height": 51
        },
        "outputId": "af3abf7a-538d-454a-ccc2-486740822dea"
      },
      "source": [
        "print('cv score',bst_cv4.iloc[-1:]['test-MAE-mean'])"
      ],
      "execution_count": 60,
      "outputs": [
        {
          "output_type": "stream",
          "text": [
            "cv score 49    1188.719279\n",
            "Name: test-MAE-mean, dtype: float64\n"
          ],
          "name": "stdout"
        }
      ]
    },
    {
      "cell_type": "code",
      "metadata": {
        "id": "_60P2A4LZ16R",
        "colab_type": "code",
        "colab": {}
      },
      "source": [
        "#changing the colsample and subsample\n",
        "#checking colsample =0.8 and subsample = 0.8\n",
        "\n",
        "xgb_parameter_v3 = {\n",
        "    'seed':0,\n",
        "    'eta':0.1,\n",
        "    'colsample_bytree':0.8,\n",
        "    'slient':1,\n",
        "    'subsample':0.8,\n",
        "    'objective':'reg:linear',\n",
        "    'max_depth':8,\n",
        "    'min_child_weight':6,\n",
        "    'gamma':0.3\n",
        "}"
      ],
      "execution_count": 0,
      "outputs": []
    },
    {
      "cell_type": "code",
      "metadata": {
        "id": "9YNrm6UTaIIL",
        "colab_type": "code",
        "colab": {
          "base_uri": "https://localhost:8080/",
          "height": 68
        },
        "outputId": "731c0bc6-b733-43f5-d175-21a3da210c6f"
      },
      "source": [
        "bst_cv5 = xgb.cv(xgb_parameter_v3,dtrain,num_boost_round=50,nfold=3,seed=0,feval=xg_evaluation,maximize=False,early_stopping_rounds=10)"
      ],
      "execution_count": 62,
      "outputs": [
        {
          "output_type": "stream",
          "text": [
            "[06:06:27] WARNING: /workspace/src/objective/regression_obj.cu:152: reg:linear is now deprecated in favor of reg:squarederror.\n",
            "[06:06:28] WARNING: /workspace/src/objective/regression_obj.cu:152: reg:linear is now deprecated in favor of reg:squarederror.\n",
            "[06:06:30] WARNING: /workspace/src/objective/regression_obj.cu:152: reg:linear is now deprecated in favor of reg:squarederror.\n"
          ],
          "name": "stdout"
        }
      ]
    },
    {
      "cell_type": "code",
      "metadata": {
        "id": "aSz7oB1CaNfp",
        "colab_type": "code",
        "colab": {
          "base_uri": "https://localhost:8080/",
          "height": 51
        },
        "outputId": "11b85199-02bb-4af2-ffde-01a688debdc7"
      },
      "source": [
        "print('cv score',bst_cv5.iloc[-1:]['test-MAE-mean'])"
      ],
      "execution_count": 63,
      "outputs": [
        {
          "output_type": "stream",
          "text": [
            "cv score 49    1183.673177\n",
            "Name: test-MAE-mean, dtype: float64\n"
          ],
          "name": "stdout"
        }
      ]
    },
    {
      "cell_type": "code",
      "metadata": {
        "id": "T_B5Mr5waTkI",
        "colab_type": "code",
        "colab": {}
      },
      "source": [
        "#eta=0.07,and # of trees is 200\n",
        "xgb_parameter_v4 = {\n",
        "    'seed':0,\n",
        "    'eta':0.07,\n",
        "    'colsample_bytree':0.8,\n",
        "    'slient':1,\n",
        "    'subsample':0.8,\n",
        "    'objective':'reg:linear',\n",
        "    'max_depth':8,\n",
        "    'min_child_weight':6,\n",
        "    'gamma':0.3\n",
        "}"
      ],
      "execution_count": 0,
      "outputs": []
    },
    {
      "cell_type": "code",
      "metadata": {
        "id": "XHSWI9xQagJ2",
        "colab_type": "code",
        "colab": {
          "base_uri": "https://localhost:8080/",
          "height": 68
        },
        "outputId": "e2aaca0c-ec06-4516-a9f6-1f40ba1c2afb"
      },
      "source": [
        "bst_cv6 = xgb.cv(xgb_parameter_v4,dtrain,num_boost_round=200,nfold=3,seed=0,feval=xg_evaluation,maximize=False,early_stopping_rounds=10)"
      ],
      "execution_count": 65,
      "outputs": [
        {
          "output_type": "stream",
          "text": [
            "[06:08:36] WARNING: /workspace/src/objective/regression_obj.cu:152: reg:linear is now deprecated in favor of reg:squarederror.\n",
            "[06:08:38] WARNING: /workspace/src/objective/regression_obj.cu:152: reg:linear is now deprecated in favor of reg:squarederror.\n",
            "[06:08:40] WARNING: /workspace/src/objective/regression_obj.cu:152: reg:linear is now deprecated in favor of reg:squarederror.\n"
          ],
          "name": "stdout"
        }
      ]
    },
    {
      "cell_type": "code",
      "metadata": {
        "id": "QGkAt5EMajjV",
        "colab_type": "code",
        "colab": {
          "base_uri": "https://localhost:8080/",
          "height": 51
        },
        "outputId": "8fe76f1e-0531-49d6-ddab-4ff986b9b49f"
      },
      "source": [
        "print('cv score',bst_cv6.iloc[-1:]['test-MAE-mean'])"
      ],
      "execution_count": 66,
      "outputs": [
        {
          "output_type": "stream",
          "text": [
            "cv score 199    1148.662353\n",
            "Name: test-MAE-mean, dtype: float64\n"
          ],
          "name": "stdout"
        }
      ]
    },
    {
      "cell_type": "code",
      "metadata": {
        "id": "J0TWkbG7apru",
        "colab_type": "code",
        "colab": {}
      },
      "source": [
        "#we have our final parameters\n",
        "\n",
        "#seed':0,\n",
        "#eta':0.07,\n",
        "#'colsample_bytree':0.8,\n",
        "#'subsample':0.8,\n",
        "#'objective':'reg:linear\n",
        "#max_depth':8,\n",
        "#'min_child_weight':6,\n",
        "#'gamma':0.3"
      ],
      "execution_count": 0,
      "outputs": []
    },
    {
      "cell_type": "code",
      "metadata": {
        "id": "JKlH5SHQcZl7",
        "colab_type": "code",
        "colab": {}
      },
      "source": [
        ""
      ],
      "execution_count": 0,
      "outputs": []
    }
  ]
}