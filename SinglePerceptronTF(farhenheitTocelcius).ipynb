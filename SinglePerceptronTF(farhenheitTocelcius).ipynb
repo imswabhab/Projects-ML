{
  "nbformat": 4,
  "nbformat_minor": 0,
  "metadata": {
    "colab": {
      "name": "SinglePerceptronTF(farhenheitTocelcius).ipynb",
      "provenance": [],
      "include_colab_link": true
    },
    "kernelspec": {
      "name": "python3",
      "display_name": "Python 3"
    },
    "accelerator": "GPU"
  },
  "cells": [
    {
      "cell_type": "markdown",
      "metadata": {
        "id": "view-in-github",
        "colab_type": "text"
      },
      "source": [
        "<a href=\"https://colab.research.google.com/github/imswabhab/Projects-ML/blob/master/SinglePerceptronTF(farhenheitTocelcius).ipynb\" target=\"_parent\"><img src=\"https://colab.research.google.com/assets/colab-badge.svg\" alt=\"Open In Colab\"/></a>"
      ]
    },
    {
      "cell_type": "code",
      "metadata": {
        "id": "O-gptz5qRKLq",
        "colab_type": "code",
        "colab": {
          "base_uri": "https://localhost:8080/",
          "height": 390
        },
        "outputId": "74c9135b-edae-440b-cde6-4cfb82003219"
      },
      "source": [
        "pip install tensorflow"
      ],
      "execution_count": 2,
      "outputs": [
        {
          "output_type": "stream",
          "text": [
            "Requirement already satisfied: tensorflow in /usr/local/lib/python3.6/dist-packages (1.15.0)\n",
            "Requirement already satisfied: gast==0.2.2 in /usr/local/lib/python3.6/dist-packages (from tensorflow) (0.2.2)\n",
            "Requirement already satisfied: google-pasta>=0.1.6 in /usr/local/lib/python3.6/dist-packages (from tensorflow) (0.1.8)\n",
            "Requirement already satisfied: keras-applications>=1.0.8 in /usr/local/lib/python3.6/dist-packages (from tensorflow) (1.0.8)\n",
            "Requirement already satisfied: termcolor>=1.1.0 in /usr/local/lib/python3.6/dist-packages (from tensorflow) (1.1.0)\n",
            "Requirement already satisfied: protobuf>=3.6.1 in /usr/local/lib/python3.6/dist-packages (from tensorflow) (3.10.0)\n",
            "Requirement already satisfied: numpy<2.0,>=1.16.0 in /usr/local/lib/python3.6/dist-packages (from tensorflow) (1.17.4)\n",
            "Requirement already satisfied: opt-einsum>=2.3.2 in /usr/local/lib/python3.6/dist-packages (from tensorflow) (3.1.0)\n",
            "Requirement already satisfied: six>=1.10.0 in /usr/local/lib/python3.6/dist-packages (from tensorflow) (1.12.0)\n",
            "Requirement already satisfied: astor>=0.6.0 in /usr/local/lib/python3.6/dist-packages (from tensorflow) (0.8.1)\n",
            "Requirement already satisfied: absl-py>=0.7.0 in /usr/local/lib/python3.6/dist-packages (from tensorflow) (0.8.1)\n",
            "Requirement already satisfied: keras-preprocessing>=1.0.5 in /usr/local/lib/python3.6/dist-packages (from tensorflow) (1.1.0)\n",
            "Requirement already satisfied: grpcio>=1.8.6 in /usr/local/lib/python3.6/dist-packages (from tensorflow) (1.15.0)\n",
            "Requirement already satisfied: tensorflow-estimator==1.15.1 in /usr/local/lib/python3.6/dist-packages (from tensorflow) (1.15.1)\n",
            "Requirement already satisfied: tensorboard<1.16.0,>=1.15.0 in /usr/local/lib/python3.6/dist-packages (from tensorflow) (1.15.0)\n",
            "Requirement already satisfied: wrapt>=1.11.1 in /usr/local/lib/python3.6/dist-packages (from tensorflow) (1.11.2)\n",
            "Requirement already satisfied: wheel>=0.26 in /usr/local/lib/python3.6/dist-packages (from tensorflow) (0.33.6)\n",
            "Requirement already satisfied: h5py in /usr/local/lib/python3.6/dist-packages (from keras-applications>=1.0.8->tensorflow) (2.8.0)\n",
            "Requirement already satisfied: setuptools in /usr/local/lib/python3.6/dist-packages (from protobuf>=3.6.1->tensorflow) (42.0.2)\n",
            "Requirement already satisfied: markdown>=2.6.8 in /usr/local/lib/python3.6/dist-packages (from tensorboard<1.16.0,>=1.15.0->tensorflow) (3.1.1)\n",
            "Requirement already satisfied: werkzeug>=0.11.15 in /usr/local/lib/python3.6/dist-packages (from tensorboard<1.16.0,>=1.15.0->tensorflow) (0.16.0)\n"
          ],
          "name": "stdout"
        }
      ]
    },
    {
      "cell_type": "code",
      "metadata": {
        "id": "QIV9X3iFRbwn",
        "colab_type": "code",
        "colab": {}
      },
      "source": [
        "#importing relevant libraries\n",
        "import numpy as np\n",
        "import pandas as pd\n",
        "import matplotlib.pyplot as plt\n",
        "import seaborn as sns\n",
        "import tensorflow as tf"
      ],
      "execution_count": 0,
      "outputs": []
    },
    {
      "cell_type": "code",
      "metadata": {
        "id": "cYWqKyZ6S4tD",
        "colab_type": "code",
        "colab": {
          "base_uri": "https://localhost:8080/",
          "height": 125
        },
        "outputId": "3e496f01-2de1-4d41-d726-bd2def362138"
      },
      "source": [
        "from google.colab import drive\n",
        "drive.mount('/content/drive')"
      ],
      "execution_count": 2,
      "outputs": [
        {
          "output_type": "stream",
          "text": [
            "Go to this URL in a browser: https://accounts.google.com/o/oauth2/auth?client_id=947318989803-6bn6qk8qdgf4n4g3pfee6491hc0brc4i.apps.googleusercontent.com&redirect_uri=urn%3aietf%3awg%3aoauth%3a2.0%3aoob&response_type=code&scope=email%20https%3a%2f%2fwww.googleapis.com%2fauth%2fdocs.test%20https%3a%2f%2fwww.googleapis.com%2fauth%2fdrive%20https%3a%2f%2fwww.googleapis.com%2fauth%2fdrive.photos.readonly%20https%3a%2f%2fwww.googleapis.com%2fauth%2fpeopleapi.readonly\n",
            "\n",
            "Enter your authorization code:\n",
            "··········\n",
            "Mounted at /content/drive\n"
          ],
          "name": "stdout"
        }
      ]
    },
    {
      "cell_type": "code",
      "metadata": {
        "id": "JzFARcEMT3N3",
        "colab_type": "code",
        "colab": {}
      },
      "source": [
        "#importing the dataset from my GDrive\n",
        "raw_data= pd.read_csv('/content/drive/My Drive/Colab Notebooks/Celsius-to-Fahrenheit.csv')"
      ],
      "execution_count": 0,
      "outputs": []
    },
    {
      "cell_type": "code",
      "metadata": {
        "id": "fMBhOy05VAFZ",
        "colab_type": "code",
        "colab": {}
      },
      "source": [
        "#makinng a copy of the raw data\n",
        "data = raw_data.copy()"
      ],
      "execution_count": 0,
      "outputs": []
    },
    {
      "cell_type": "code",
      "metadata": {
        "id": "8E-sZRBwVFJb",
        "colab_type": "code",
        "colab": {
          "base_uri": "https://localhost:8080/",
          "height": 197
        },
        "outputId": "d888420a-f34e-47a1-d944-ebd5469820f4"
      },
      "source": [
        "data.head()"
      ],
      "execution_count": 6,
      "outputs": [
        {
          "output_type": "execute_result",
          "data": {
            "text/html": [
              "<div>\n",
              "<style scoped>\n",
              "    .dataframe tbody tr th:only-of-type {\n",
              "        vertical-align: middle;\n",
              "    }\n",
              "\n",
              "    .dataframe tbody tr th {\n",
              "        vertical-align: top;\n",
              "    }\n",
              "\n",
              "    .dataframe thead th {\n",
              "        text-align: right;\n",
              "    }\n",
              "</style>\n",
              "<table border=\"1\" class=\"dataframe\">\n",
              "  <thead>\n",
              "    <tr style=\"text-align: right;\">\n",
              "      <th></th>\n",
              "      <th>Celsius</th>\n",
              "      <th>Fahrenheit</th>\n",
              "    </tr>\n",
              "  </thead>\n",
              "  <tbody>\n",
              "    <tr>\n",
              "      <th>0</th>\n",
              "      <td>-50</td>\n",
              "      <td>-58.0</td>\n",
              "    </tr>\n",
              "    <tr>\n",
              "      <th>1</th>\n",
              "      <td>-40</td>\n",
              "      <td>-40.0</td>\n",
              "    </tr>\n",
              "    <tr>\n",
              "      <th>2</th>\n",
              "      <td>-30</td>\n",
              "      <td>-22.0</td>\n",
              "    </tr>\n",
              "    <tr>\n",
              "      <th>3</th>\n",
              "      <td>-20</td>\n",
              "      <td>-4.0</td>\n",
              "    </tr>\n",
              "    <tr>\n",
              "      <th>4</th>\n",
              "      <td>-10</td>\n",
              "      <td>14.0</td>\n",
              "    </tr>\n",
              "  </tbody>\n",
              "</table>\n",
              "</div>"
            ],
            "text/plain": [
              "   Celsius  Fahrenheit\n",
              "0      -50       -58.0\n",
              "1      -40       -40.0\n",
              "2      -30       -22.0\n",
              "3      -20        -4.0\n",
              "4      -10        14.0"
            ]
          },
          "metadata": {
            "tags": []
          },
          "execution_count": 6
        }
      ]
    },
    {
      "cell_type": "code",
      "metadata": {
        "id": "paeYlh31VWtD",
        "colab_type": "code",
        "colab": {
          "base_uri": "https://localhost:8080/",
          "height": 347
        },
        "outputId": "bdfaf295-108d-4a70-b75b-8e90426c7599"
      },
      "source": [
        "data.tail(10)"
      ],
      "execution_count": 8,
      "outputs": [
        {
          "output_type": "execute_result",
          "data": {
            "text/html": [
              "<div>\n",
              "<style scoped>\n",
              "    .dataframe tbody tr th:only-of-type {\n",
              "        vertical-align: middle;\n",
              "    }\n",
              "\n",
              "    .dataframe tbody tr th {\n",
              "        vertical-align: top;\n",
              "    }\n",
              "\n",
              "    .dataframe thead th {\n",
              "        text-align: right;\n",
              "    }\n",
              "</style>\n",
              "<table border=\"1\" class=\"dataframe\">\n",
              "  <thead>\n",
              "    <tr style=\"text-align: right;\">\n",
              "      <th></th>\n",
              "      <th>Celsius</th>\n",
              "      <th>Fahrenheit</th>\n",
              "    </tr>\n",
              "  </thead>\n",
              "  <tbody>\n",
              "    <tr>\n",
              "      <th>20</th>\n",
              "      <td>6</td>\n",
              "      <td>42.8</td>\n",
              "    </tr>\n",
              "    <tr>\n",
              "      <th>21</th>\n",
              "      <td>7</td>\n",
              "      <td>44.6</td>\n",
              "    </tr>\n",
              "    <tr>\n",
              "      <th>22</th>\n",
              "      <td>8</td>\n",
              "      <td>46.4</td>\n",
              "    </tr>\n",
              "    <tr>\n",
              "      <th>23</th>\n",
              "      <td>9</td>\n",
              "      <td>48.2</td>\n",
              "    </tr>\n",
              "    <tr>\n",
              "      <th>24</th>\n",
              "      <td>10</td>\n",
              "      <td>50.0</td>\n",
              "    </tr>\n",
              "    <tr>\n",
              "      <th>25</th>\n",
              "      <td>20</td>\n",
              "      <td>68.0</td>\n",
              "    </tr>\n",
              "    <tr>\n",
              "      <th>26</th>\n",
              "      <td>30</td>\n",
              "      <td>86.0</td>\n",
              "    </tr>\n",
              "    <tr>\n",
              "      <th>27</th>\n",
              "      <td>40</td>\n",
              "      <td>104.0</td>\n",
              "    </tr>\n",
              "    <tr>\n",
              "      <th>28</th>\n",
              "      <td>50</td>\n",
              "      <td>122.0</td>\n",
              "    </tr>\n",
              "    <tr>\n",
              "      <th>29</th>\n",
              "      <td>60</td>\n",
              "      <td>140.0</td>\n",
              "    </tr>\n",
              "  </tbody>\n",
              "</table>\n",
              "</div>"
            ],
            "text/plain": [
              "    Celsius  Fahrenheit\n",
              "20        6        42.8\n",
              "21        7        44.6\n",
              "22        8        46.4\n",
              "23        9        48.2\n",
              "24       10        50.0\n",
              "25       20        68.0\n",
              "26       30        86.0\n",
              "27       40       104.0\n",
              "28       50       122.0\n",
              "29       60       140.0"
            ]
          },
          "metadata": {
            "tags": []
          },
          "execution_count": 8
        }
      ]
    },
    {
      "cell_type": "code",
      "metadata": {
        "id": "63h8-XhFVg_v",
        "colab_type": "code",
        "colab": {
          "base_uri": "https://localhost:8080/",
          "height": 287
        },
        "outputId": "7f2fcdb4-0b4c-4dd8-ad9c-3903ea7c5273"
      },
      "source": [
        "data.describe()"
      ],
      "execution_count": 9,
      "outputs": [
        {
          "output_type": "execute_result",
          "data": {
            "text/html": [
              "<div>\n",
              "<style scoped>\n",
              "    .dataframe tbody tr th:only-of-type {\n",
              "        vertical-align: middle;\n",
              "    }\n",
              "\n",
              "    .dataframe tbody tr th {\n",
              "        vertical-align: top;\n",
              "    }\n",
              "\n",
              "    .dataframe thead th {\n",
              "        text-align: right;\n",
              "    }\n",
              "</style>\n",
              "<table border=\"1\" class=\"dataframe\">\n",
              "  <thead>\n",
              "    <tr style=\"text-align: right;\">\n",
              "      <th></th>\n",
              "      <th>Celsius</th>\n",
              "      <th>Fahrenheit</th>\n",
              "    </tr>\n",
              "  </thead>\n",
              "  <tbody>\n",
              "    <tr>\n",
              "      <th>count</th>\n",
              "      <td>30.000000</td>\n",
              "      <td>30.000000</td>\n",
              "    </tr>\n",
              "    <tr>\n",
              "      <th>mean</th>\n",
              "      <td>2.000000</td>\n",
              "      <td>35.600000</td>\n",
              "    </tr>\n",
              "    <tr>\n",
              "      <th>std</th>\n",
              "      <td>22.780815</td>\n",
              "      <td>41.005466</td>\n",
              "    </tr>\n",
              "    <tr>\n",
              "      <th>min</th>\n",
              "      <td>-50.000000</td>\n",
              "      <td>-58.000000</td>\n",
              "    </tr>\n",
              "    <tr>\n",
              "      <th>25%</th>\n",
              "      <td>-6.750000</td>\n",
              "      <td>19.850000</td>\n",
              "    </tr>\n",
              "    <tr>\n",
              "      <th>50%</th>\n",
              "      <td>0.500000</td>\n",
              "      <td>32.900000</td>\n",
              "    </tr>\n",
              "    <tr>\n",
              "      <th>75%</th>\n",
              "      <td>7.750000</td>\n",
              "      <td>45.950000</td>\n",
              "    </tr>\n",
              "    <tr>\n",
              "      <th>max</th>\n",
              "      <td>60.000000</td>\n",
              "      <td>140.000000</td>\n",
              "    </tr>\n",
              "  </tbody>\n",
              "</table>\n",
              "</div>"
            ],
            "text/plain": [
              "         Celsius  Fahrenheit\n",
              "count  30.000000   30.000000\n",
              "mean    2.000000   35.600000\n",
              "std    22.780815   41.005466\n",
              "min   -50.000000  -58.000000\n",
              "25%    -6.750000   19.850000\n",
              "50%     0.500000   32.900000\n",
              "75%     7.750000   45.950000\n",
              "max    60.000000  140.000000"
            ]
          },
          "metadata": {
            "tags": []
          },
          "execution_count": 9
        }
      ]
    },
    {
      "cell_type": "code",
      "metadata": {
        "id": "xps-ZvUIVoAp",
        "colab_type": "code",
        "colab": {
          "base_uri": "https://localhost:8080/",
          "height": 141
        },
        "outputId": "e479bd69-20d9-40ad-8c52-71068e199034"
      },
      "source": [
        "#checking for null values\n",
        "data.info()"
      ],
      "execution_count": 10,
      "outputs": [
        {
          "output_type": "stream",
          "text": [
            "<class 'pandas.core.frame.DataFrame'>\n",
            "RangeIndex: 30 entries, 0 to 29\n",
            "Data columns (total 2 columns):\n",
            "Celsius       30 non-null int64\n",
            "Fahrenheit    30 non-null float64\n",
            "dtypes: float64(1), int64(1)\n",
            "memory usage: 608.0 bytes\n"
          ],
          "name": "stdout"
        }
      ]
    },
    {
      "cell_type": "code",
      "metadata": {
        "id": "B17XaozTVycM",
        "colab_type": "code",
        "colab": {
          "base_uri": "https://localhost:8080/",
          "height": 296
        },
        "outputId": "d0ca896d-f64a-46ac-ce02-61959f0dd751"
      },
      "source": [
        "#visualising the dataset\n",
        "sns.scatterplot(data['Celsius'],data['Fahrenheit'])"
      ],
      "execution_count": 11,
      "outputs": [
        {
          "output_type": "execute_result",
          "data": {
            "text/plain": [
              "<matplotlib.axes._subplots.AxesSubplot at 0x7fa75456e320>"
            ]
          },
          "metadata": {
            "tags": []
          },
          "execution_count": 11
        },
        {
          "output_type": "display_data",
          "data": {
            "image/png": "[encoded data removed]",
            "text/plain": [
              "<Figure size 432x288 with 1 Axes>"
            ]
          },
          "metadata": {
            "tags": []
          }
        }
      ]
    },
    {
      "cell_type": "code",
      "metadata": {
        "id": "o7_uqTO9WcbE",
        "colab_type": "code",
        "colab": {}
      },
      "source": [
        "#as the dataset is small only consisting of 30 enteries we will not divide the dataset\n",
        "x = data['Celsius']\n",
        "y = data['Fahrenheit']"
      ],
      "execution_count": 0,
      "outputs": []
    },
    {
      "cell_type": "code",
      "metadata": {
        "id": "yP2xIJlGW6tY",
        "colab_type": "code",
        "colab": {
          "base_uri": "https://localhost:8080/",
          "height": 34
        },
        "outputId": "bfa2a1c4-5a8e-45a1-919e-51f4b43040d0"
      },
      "source": [
        "x.shape"
      ],
      "execution_count": 13,
      "outputs": [
        {
          "output_type": "execute_result",
          "data": {
            "text/plain": [
              "(30,)"
            ]
          },
          "metadata": {
            "tags": []
          },
          "execution_count": 13
        }
      ]
    },
    {
      "cell_type": "code",
      "metadata": {
        "id": "4aw2G9VpXB0V",
        "colab_type": "code",
        "colab": {
          "base_uri": "https://localhost:8080/",
          "height": 34
        },
        "outputId": "669cc45b-c997-4ba7-8c4f-72ae4c5045c8"
      },
      "source": [
        "y.shape"
      ],
      "execution_count": 14,
      "outputs": [
        {
          "output_type": "execute_result",
          "data": {
            "text/plain": [
              "(30,)"
            ]
          },
          "metadata": {
            "tags": []
          },
          "execution_count": 14
        }
      ]
    },
    {
      "cell_type": "code",
      "metadata": {
        "id": "7ndN5V-TXDiv",
        "colab_type": "code",
        "colab": {}
      },
      "source": [
        "#building the model\n",
        "\n",
        "model =tf.keras.Sequential()\n",
        "#building a single neuron\n",
        "model.add(tf.keras.layers.Dense(units = 1, input_shape =[1]))"
      ],
      "execution_count": 0,
      "outputs": []
    },
    {
      "cell_type": "code",
      "metadata": {
        "id": "GYOnGhn8Xw8s",
        "colab_type": "code",
        "colab": {
          "base_uri": "https://localhost:8080/",
          "height": 194
        },
        "outputId": "1853700b-b4d8-4f2f-bd40-918543a50fab"
      },
      "source": [
        "model.summary()"
      ],
      "execution_count": 17,
      "outputs": [
        {
          "output_type": "stream",
          "text": [
            "Model: \"sequential_1\"\n",
            "_________________________________________________________________\n",
            "Layer (type)                 Output Shape              Param #   \n",
            "=================================================================\n",
            "dense_1 (Dense)              (None, 1)                 2         \n",
            "=================================================================\n",
            "Total params: 2\n",
            "Trainable params: 2\n",
            "Non-trainable params: 0\n",
            "_________________________________________________________________\n"
          ],
          "name": "stdout"
        }
      ]
    },
    {
      "cell_type": "code",
      "metadata": {
        "id": "pQB6lhuAYACs",
        "colab_type": "code",
        "colab": {}
      },
      "source": [
        "model.compile(tf.keras.optimizers.Adam(0.5),loss = 'mean_squared_error')"
      ],
      "execution_count": 0,
      "outputs": []
    },
    {
      "cell_type": "code",
      "metadata": {
        "id": "XUFHyIvsYfvJ",
        "colab_type": "code",
        "colab": {
          "base_uri": "https://localhost:8080/",
          "height": 1000
        },
        "outputId": "c04df20a-837c-4652-9795-63701e2e135d"
      },
      "source": [
        "epoch_hist= model.fit(x,y,epochs=100)"
      ],
      "execution_count": 20,
      "outputs": [
        {
          "output_type": "stream",
          "text": [
            "Train on 30 samples\n",
            "Epoch 1/100\n",
            "30/30 [==============================] - 0s 90us/sample - loss: 5028.3813\n",
            "Epoch 2/100\n",
            "30/30 [==============================] - 0s 91us/sample - loss: 3698.0469\n",
            "Epoch 3/100\n",
            "30/30 [==============================] - 0s 87us/sample - loss: 2633.1091\n",
            "Epoch 4/100\n",
            "30/30 [==============================] - 0s 104us/sample - loss: 1829.1102\n",
            "Epoch 5/100\n",
            "30/30 [==============================] - 0s 49us/sample - loss: 1273.8865\n",
            "Epoch 6/100\n",
            "30/30 [==============================] - 0s 167us/sample - loss: 945.3102\n",
            "Epoch 7/100\n",
            "30/30 [==============================] - 0s 188us/sample - loss: 809.7230\n",
            "Epoch 8/100\n",
            "30/30 [==============================] - 0s 50us/sample - loss: 822.2336\n",
            "Epoch 9/100\n",
            "30/30 [==============================] - 0s 63us/sample - loss: 930.0604\n",
            "Epoch 10/100\n",
            "30/30 [==============================] - 0s 80us/sample - loss: 1079.0493\n",
            "Epoch 11/100\n",
            "30/30 [==============================] - 0s 70us/sample - loss: 1221.6348\n",
            "Epoch 12/100\n",
            "30/30 [==============================] - 0s 92us/sample - loss: 1323.3300\n",
            "Epoch 13/100\n",
            "30/30 [==============================] - 0s 79us/sample - loss: 1365.5352\n",
            "Epoch 14/100\n",
            "30/30 [==============================] - 0s 74us/sample - loss: 1344.4902\n",
            "Epoch 15/100\n",
            "30/30 [==============================] - 0s 72us/sample - loss: 1267.7786\n",
            "Epoch 16/100\n",
            "30/30 [==============================] - 0s 72us/sample - loss: 1150.0541\n",
            "Epoch 17/100\n",
            "30/30 [==============================] - 0s 67us/sample - loss: 1009.1113\n",
            "Epoch 18/100\n",
            "30/30 [==============================] - 0s 59us/sample - loss: 862.7523\n",
            "Epoch 19/100\n",
            "30/30 [==============================] - 0s 98us/sample - loss: 726.5042\n",
            "Epoch 20/100\n",
            "30/30 [==============================] - 0s 94us/sample - loss: 612.0993\n",
            "Epoch 21/100\n",
            "30/30 [==============================] - 0s 96us/sample - loss: 526.6241\n",
            "Epoch 22/100\n",
            "30/30 [==============================] - 0s 65us/sample - loss: 472.2827\n",
            "Epoch 23/100\n",
            "30/30 [==============================] - 0s 85us/sample - loss: 446.7524\n",
            "Epoch 24/100\n",
            "30/30 [==============================] - 0s 65us/sample - loss: 444.0846\n",
            "Epoch 25/100\n",
            "30/30 [==============================] - 0s 66us/sample - loss: 456.0348\n",
            "Epoch 26/100\n",
            "30/30 [==============================] - 0s 134us/sample - loss: 473.6181\n",
            "Epoch 27/100\n",
            "30/30 [==============================] - 0s 99us/sample - loss: 488.6225\n",
            "Epoch 28/100\n",
            "30/30 [==============================] - 0s 99us/sample - loss: 494.8134\n",
            "Epoch 29/100\n",
            "30/30 [==============================] - 0s 140us/sample - loss: 488.6407\n",
            "Epoch 30/100\n",
            "30/30 [==============================] - 0s 116us/sample - loss: 469.3871\n",
            "Epoch 31/100\n",
            "30/30 [==============================] - 0s 122us/sample - loss: 438.8163\n",
            "Epoch 32/100\n",
            "30/30 [==============================] - 0s 92us/sample - loss: 400.4686\n",
            "Epoch 33/100\n",
            "30/30 [==============================] - 0s 100us/sample - loss: 358.7817\n",
            "Epoch 34/100\n",
            "30/30 [==============================] - 0s 147us/sample - loss: 318.2070\n",
            "Epoch 35/100\n",
            "30/30 [==============================] - 0s 110us/sample - loss: 282.4612\n",
            "Epoch 36/100\n",
            "30/30 [==============================] - 0s 70us/sample - loss: 254.0042\n",
            "Epoch 37/100\n",
            "30/30 [==============================] - 0s 56us/sample - loss: 233.7986\n",
            "Epoch 38/100\n",
            "30/30 [==============================] - 0s 59us/sample - loss: 221.3519\n",
            "Epoch 39/100\n",
            "30/30 [==============================] - 0s 54us/sample - loss: 215.0047\n",
            "Epoch 40/100\n",
            "30/30 [==============================] - 0s 80us/sample - loss: 212.3890\n",
            "Epoch 41/100\n",
            "30/30 [==============================] - 0s 111us/sample - loss: 210.9554\n",
            "Epoch 42/100\n",
            "30/30 [==============================] - 0s 107us/sample - loss: 208.4640\n",
            "Epoch 43/100\n",
            "30/30 [==============================] - 0s 97us/sample - loss: 203.3502\n",
            "Epoch 44/100\n",
            "30/30 [==============================] - 0s 138us/sample - loss: 194.9112\n",
            "Epoch 45/100\n",
            "30/30 [==============================] - 0s 120us/sample - loss: 183.3018\n",
            "Epoch 46/100\n",
            "30/30 [==============================] - 0s 112us/sample - loss: 169.3660\n",
            "Epoch 47/100\n",
            "30/30 [==============================] - 0s 106us/sample - loss: 154.3627\n",
            "Epoch 48/100\n",
            "30/30 [==============================] - 0s 106us/sample - loss: 139.6512\n",
            "Epoch 49/100\n",
            "30/30 [==============================] - 0s 134us/sample - loss: 126.4051\n",
            "Epoch 50/100\n",
            "30/30 [==============================] - 0s 114us/sample - loss: 115.4044\n",
            "Epoch 51/100\n",
            "30/30 [==============================] - 0s 127us/sample - loss: 106.9360\n",
            "Epoch 52/100\n",
            "30/30 [==============================] - 0s 115us/sample - loss: 100.8078\n",
            "Epoch 53/100\n",
            "30/30 [==============================] - 0s 88us/sample - loss: 96.4574\n",
            "Epoch 54/100\n",
            "30/30 [==============================] - 0s 53us/sample - loss: 93.1225\n",
            "Epoch 55/100\n",
            "30/30 [==============================] - 0s 66us/sample - loss: 90.0267\n",
            "Epoch 56/100\n",
            "30/30 [==============================] - 0s 73us/sample - loss: 86.5426\n",
            "Epoch 57/100\n",
            "30/30 [==============================] - 0s 63us/sample - loss: 82.2981\n",
            "Epoch 58/100\n",
            "30/30 [==============================] - 0s 82us/sample - loss: 77.2124\n",
            "Epoch 59/100\n",
            "30/30 [==============================] - 0s 79us/sample - loss: 71.4648\n",
            "Epoch 60/100\n",
            "30/30 [==============================] - 0s 74us/sample - loss: 65.4103\n",
            "Epoch 61/100\n",
            "30/30 [==============================] - 0s 79us/sample - loss: 59.4717\n",
            "Epoch 62/100\n",
            "30/30 [==============================] - 0s 84us/sample - loss: 54.0315\n",
            "Epoch 63/100\n",
            "30/30 [==============================] - 0s 112us/sample - loss: 49.3509\n",
            "Epoch 64/100\n",
            "30/30 [==============================] - 0s 113us/sample - loss: 45.5278\n",
            "Epoch 65/100\n",
            "30/30 [==============================] - 0s 123us/sample - loss: 42.4980\n",
            "Epoch 66/100\n",
            "30/30 [==============================] - 0s 110us/sample - loss: 40.0737\n",
            "Epoch 67/100\n",
            "30/30 [==============================] - 0s 104us/sample - loss: 38.0043\n",
            "Epoch 68/100\n",
            "30/30 [==============================] - 0s 96us/sample - loss: 36.0422\n",
            "Epoch 69/100\n",
            "30/30 [==============================] - 0s 93us/sample - loss: 33.9983\n",
            "Epoch 70/100\n",
            "30/30 [==============================] - 0s 100us/sample - loss: 31.7748\n",
            "Epoch 71/100\n",
            "30/30 [==============================] - 0s 98us/sample - loss: 29.3712\n",
            "Epoch 72/100\n",
            "30/30 [==============================] - 0s 109us/sample - loss: 26.8670\n",
            "Epoch 73/100\n",
            "30/30 [==============================] - 0s 100us/sample - loss: 24.3871\n",
            "Epoch 74/100\n",
            "30/30 [==============================] - 0s 96us/sample - loss: 22.0622\n",
            "Epoch 75/100\n",
            "30/30 [==============================] - 0s 125us/sample - loss: 19.9942\n",
            "Epoch 76/100\n",
            "30/30 [==============================] - 0s 106us/sample - loss: 18.2344\n",
            "Epoch 77/100\n",
            "30/30 [==============================] - 0s 119us/sample - loss: 16.7770\n",
            "Epoch 78/100\n",
            "30/30 [==============================] - 0s 117us/sample - loss: 15.5686\n",
            "Epoch 79/100\n",
            "30/30 [==============================] - 0s 120us/sample - loss: 14.5279\n",
            "Epoch 80/100\n",
            "30/30 [==============================] - 0s 113us/sample - loss: 13.5694\n",
            "Epoch 81/100\n",
            "30/30 [==============================] - 0s 109us/sample - loss: 12.6243\n",
            "Epoch 82/100\n",
            "30/30 [==============================] - 0s 107us/sample - loss: 11.6539\n",
            "Epoch 83/100\n",
            "30/30 [==============================] - 0s 120us/sample - loss: 10.6533\n",
            "Epoch 84/100\n",
            "30/30 [==============================] - 0s 106us/sample - loss: 9.6457\n",
            "Epoch 85/100\n",
            "30/30 [==============================] - 0s 111us/sample - loss: 8.6705\n",
            "Epoch 86/100\n",
            "30/30 [==============================] - 0s 116us/sample - loss: 7.7690\n",
            "Epoch 87/100\n",
            "30/30 [==============================] - 0s 132us/sample - loss: 6.9721\n",
            "Epoch 88/100\n",
            "30/30 [==============================] - 0s 115us/sample - loss: 6.2927\n",
            "Epoch 89/100\n",
            "30/30 [==============================] - 0s 209us/sample - loss: 5.7246\n",
            "Epoch 90/100\n",
            "30/30 [==============================] - 0s 116us/sample - loss: 5.2459\n",
            "Epoch 91/100\n",
            "30/30 [==============================] - 0s 110us/sample - loss: 4.8271\n",
            "Epoch 92/100\n",
            "30/30 [==============================] - 0s 104us/sample - loss: 4.4392\n",
            "Epoch 93/100\n",
            "30/30 [==============================] - 0s 127us/sample - loss: 4.0609\n",
            "Epoch 94/100\n",
            "30/30 [==============================] - 0s 125us/sample - loss: 3.6824\n",
            "Epoch 95/100\n",
            "30/30 [==============================] - 0s 188us/sample - loss: 3.3051\n",
            "Epoch 96/100\n",
            "30/30 [==============================] - 0s 110us/sample - loss: 2.9389\n",
            "Epoch 97/100\n",
            "30/30 [==============================] - 0s 95us/sample - loss: 2.5973\n",
            "Epoch 98/100\n",
            "30/30 [==============================] - 0s 100us/sample - loss: 2.2921\n",
            "Epoch 99/100\n",
            "30/30 [==============================] - 0s 107us/sample - loss: 2.0302\n",
            "Epoch 100/100\n",
            "30/30 [==============================] - 0s 135us/sample - loss: 1.8115\n"
          ],
          "name": "stdout"
        }
      ]
    },
    {
      "cell_type": "code",
      "metadata": {
        "id": "3Nl2YuUxYi8b",
        "colab_type": "code",
        "colab": {
          "base_uri": "https://localhost:8080/",
          "height": 34
        },
        "outputId": "b7d7351e-c7f6-4f20-cfc1-3658582fc132"
      },
      "source": [
        "epoch_hist.history.keys()"
      ],
      "execution_count": 21,
      "outputs": [
        {
          "output_type": "execute_result",
          "data": {
            "text/plain": [
              "dict_keys(['loss'])"
            ]
          },
          "metadata": {
            "tags": []
          },
          "execution_count": 21
        }
      ]
    },
    {
      "cell_type": "code",
      "metadata": {
        "id": "PhWe3TxeZJ-S",
        "colab_type": "code",
        "colab": {
          "base_uri": "https://localhost:8080/",
          "height": 312
        },
        "outputId": "35395221-db95-4c81-91ac-132f62aba2b0"
      },
      "source": [
        "#evaluating the model\n",
        "plt.plot(epoch_hist.history['loss'])\n",
        "plt.title('Model Loss during Training')\n",
        "plt.xlabel('Epochs')\n",
        "plt.ylabel('Traing Loss')\n",
        "plt.legend('Traing Loss')"
      ],
      "execution_count": 25,
      "outputs": [
        {
          "output_type": "execute_result",
          "data": {
            "text/plain": [
              "<matplotlib.legend.Legend at 0x7fa7302adc88>"
            ]
          },
          "metadata": {
            "tags": []
          },
          "execution_count": 25
        },
        {
          "output_type": "display_data",
          "data": {
            "image/png": "[encoded data removed]",
            "text/plain": [
              "<Figure size 432x288 with 1 Axes>"
            ]
          },
          "metadata": {
            "tags": []
          }
        }
      ]
    },
    {
      "cell_type": "code",
      "metadata": {
        "id": "EvPNMcQlZdr_",
        "colab_type": "code",
        "colab": {
          "base_uri": "https://localhost:8080/",
          "height": 34
        },
        "outputId": "f16e8502-e5de-45c9-ceb8-82505b7c1063"
      },
      "source": [
        "#getting the weights\n",
        "model.get_weights()"
      ],
      "execution_count": 26,
      "outputs": [
        {
          "output_type": "execute_result",
          "data": {
            "text/plain": [
              "[array([[1.8000497]], dtype=float32), array([30.72329], dtype=float32)]"
            ]
          },
          "metadata": {
            "tags": []
          },
          "execution_count": 26
        }
      ]
    },
    {
      "cell_type": "code",
      "metadata": {
        "id": "tJOXt_UdaWRt",
        "colab_type": "code",
        "colab": {}
      },
      "source": [
        ""
      ],
      "execution_count": 0,
      "outputs": []
    }
  ]
}